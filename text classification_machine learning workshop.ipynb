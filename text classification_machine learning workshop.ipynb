{
 "cells": [
  {
   "cell_type": "markdown",
   "id": "059b5bf9",
   "metadata": {},
   "source": [
    "## Loading libraries"
   ]
  },
  {
   "cell_type": "code",
   "execution_count": 63,
   "id": "bff86c7f",
   "metadata": {},
   "outputs": [
    {
     "name": "stdout",
     "output_type": "stream",
     "text": [
      "1.3.0\n"
     ]
    }
   ],
   "source": [
    "# general packages for data manipulation\n",
    "import sklearn \n",
    "import numpy as np\n",
    "import pandas as pd\n",
    "\n",
    "# visualizations\n",
    "import seaborn as sns \n",
    "import matplotlib.pyplot as plt\n",
    "%matplotlib inline\n",
    "sns.set_style('darkgrid')\n",
    "\n",
    "# handle and omit warnings\n",
    "import warnings\n",
    "warnings.filterwarnings('ignore')\n",
    "pd.options.mode.chained_assignment = None \n",
    "\n",
    "# display pandas dataframe columns \n",
    "pd.options.display.max_columns = None\n",
    "\n",
    "# Load the sklearn stuff\n",
    "import sklearn \n",
    "print(sklearn.__version__)\n",
    "\n",
    "# making text data numeric\n",
    "from sklearn.feature_extraction.text import CountVectorizer, TfidfVectorizer, TfidfTransformer\n",
    "\n",
    "# making numeric data comparable\n",
    "from sklearn.preprocessing import StandardScaler\n",
    "\n",
    "# experimental regime and pipeline\n",
    "from sklearn.pipeline import Pipeline\n",
    "from sklearn.pipeline import make_pipeline\n",
    "from sklearn.compose import make_column_transformer\n",
    "from sklearn.model_selection import train_test_split, GridSearchCV, cross_val_score\n",
    "\n",
    "# machine learning algorithm\n",
    "from sklearn.svm import SVC\n",
    "from sklearn.linear_model import SGDClassifier\n",
    "\n",
    "# evaluation metrics\n",
    "from sklearn.metrics import classification_report, confusion_matrix, ConfusionMatrixDisplay\n",
    "\n",
    "# get reproducible results\n",
    "np.random.seed(42)\n",
    "#tf.random.set_seed(42)"
   ]
  },
  {
   "cell_type": "markdown",
   "id": "fc2175ca",
   "metadata": {},
   "source": [
    "### 1. Data inspection"
   ]
  },
  {
   "cell_type": "code",
   "execution_count": 2,
   "id": "aa72649e",
   "metadata": {},
   "outputs": [
    {
     "data": {
      "text/html": [
       "<div>\n",
       "<style scoped>\n",
       "    .dataframe tbody tr th:only-of-type {\n",
       "        vertical-align: middle;\n",
       "    }\n",
       "\n",
       "    .dataframe tbody tr th {\n",
       "        vertical-align: top;\n",
       "    }\n",
       "\n",
       "    .dataframe thead th {\n",
       "        text-align: right;\n",
       "    }\n",
       "</style>\n",
       "<table border=\"1\" class=\"dataframe\">\n",
       "  <thead>\n",
       "    <tr style=\"text-align: right;\">\n",
       "      <th></th>\n",
       "      <th>id</th>\n",
       "      <th>tweet</th>\n",
       "      <th>subtask_a</th>\n",
       "      <th>subtask_b</th>\n",
       "      <th>subtask_c</th>\n",
       "    </tr>\n",
       "  </thead>\n",
       "  <tbody>\n",
       "    <tr>\n",
       "      <th>0</th>\n",
       "      <td>86426</td>\n",
       "      <td>@USER She should ask a few native Americans wh...</td>\n",
       "      <td>OFF</td>\n",
       "      <td>UNT</td>\n",
       "      <td>NaN</td>\n",
       "    </tr>\n",
       "    <tr>\n",
       "      <th>1</th>\n",
       "      <td>90194</td>\n",
       "      <td>@USER @USER Go home you’re drunk!!! @USER #MAG...</td>\n",
       "      <td>OFF</td>\n",
       "      <td>TIN</td>\n",
       "      <td>IND</td>\n",
       "    </tr>\n",
       "    <tr>\n",
       "      <th>2</th>\n",
       "      <td>16820</td>\n",
       "      <td>Amazon is investigating Chinese employees who ...</td>\n",
       "      <td>NOT</td>\n",
       "      <td>NaN</td>\n",
       "      <td>NaN</td>\n",
       "    </tr>\n",
       "    <tr>\n",
       "      <th>3</th>\n",
       "      <td>62688</td>\n",
       "      <td>@USER Someone should'veTaken\" this piece of sh...</td>\n",
       "      <td>OFF</td>\n",
       "      <td>UNT</td>\n",
       "      <td>NaN</td>\n",
       "    </tr>\n",
       "    <tr>\n",
       "      <th>4</th>\n",
       "      <td>43605</td>\n",
       "      <td>@USER @USER Obama wanted liberals &amp;amp; illega...</td>\n",
       "      <td>NOT</td>\n",
       "      <td>NaN</td>\n",
       "      <td>NaN</td>\n",
       "    </tr>\n",
       "  </tbody>\n",
       "</table>\n",
       "</div>"
      ],
      "text/plain": [
       "      id                                              tweet subtask_a  \\\n",
       "0  86426  @USER She should ask a few native Americans wh...       OFF   \n",
       "1  90194  @USER @USER Go home you’re drunk!!! @USER #MAG...       OFF   \n",
       "2  16820  Amazon is investigating Chinese employees who ...       NOT   \n",
       "3  62688  @USER Someone should'veTaken\" this piece of sh...       OFF   \n",
       "4  43605  @USER @USER Obama wanted liberals &amp; illega...       NOT   \n",
       "\n",
       "  subtask_b subtask_c  \n",
       "0       UNT       NaN  \n",
       "1       TIN       IND  \n",
       "2       NaN       NaN  \n",
       "3       UNT       NaN  \n",
       "4       NaN       NaN  "
      ]
     },
     "execution_count": 2,
     "metadata": {},
     "output_type": "execute_result"
    }
   ],
   "source": [
    "OLID_train = pd.read_csv('olid-training-v1.0.tsv', delimiter='\\t', encoding='utf-8')\n",
    "OLID_train.head()"
   ]
  },
  {
   "cell_type": "code",
   "execution_count": 3,
   "id": "e4771983",
   "metadata": {},
   "outputs": [
    {
     "name": "stdout",
     "output_type": "stream",
     "text": [
      "<class 'pandas.core.frame.DataFrame'>\n",
      "RangeIndex: 13240 entries, 0 to 13239\n",
      "Data columns (total 5 columns):\n",
      " #   Column     Non-Null Count  Dtype \n",
      "---  ------     --------------  ----- \n",
      " 0   id         13240 non-null  int64 \n",
      " 1   tweet      13240 non-null  object\n",
      " 2   subtask_a  13240 non-null  object\n",
      " 3   subtask_b  4400 non-null   object\n",
      " 4   subtask_c  3876 non-null   object\n",
      "dtypes: int64(1), object(4)\n",
      "memory usage: 517.3+ KB\n"
     ]
    }
   ],
   "source": [
    "# Check the information of the dataset\n",
    "OLID_train.info()"
   ]
  },
  {
   "cell_type": "code",
   "execution_count": 4,
   "id": "af39b6e4",
   "metadata": {},
   "outputs": [
    {
     "data": {
      "text/html": [
       "<div>\n",
       "<style scoped>\n",
       "    .dataframe tbody tr th:only-of-type {\n",
       "        vertical-align: middle;\n",
       "    }\n",
       "\n",
       "    .dataframe tbody tr th {\n",
       "        vertical-align: top;\n",
       "    }\n",
       "\n",
       "    .dataframe thead th {\n",
       "        text-align: right;\n",
       "    }\n",
       "</style>\n",
       "<table border=\"1\" class=\"dataframe\">\n",
       "  <thead>\n",
       "    <tr style=\"text-align: right;\">\n",
       "      <th></th>\n",
       "      <th>id</th>\n",
       "      <th>text</th>\n",
       "      <th>label</th>\n",
       "      <th>target</th>\n",
       "    </tr>\n",
       "  </thead>\n",
       "  <tbody>\n",
       "    <tr>\n",
       "      <th>0</th>\n",
       "      <td>86426</td>\n",
       "      <td>@USER She should ask a few native Americans wh...</td>\n",
       "      <td>OFF</td>\n",
       "      <td>1</td>\n",
       "    </tr>\n",
       "    <tr>\n",
       "      <th>1</th>\n",
       "      <td>90194</td>\n",
       "      <td>@USER @USER Go home you’re drunk!!! @USER #MAG...</td>\n",
       "      <td>OFF</td>\n",
       "      <td>1</td>\n",
       "    </tr>\n",
       "    <tr>\n",
       "      <th>2</th>\n",
       "      <td>16820</td>\n",
       "      <td>Amazon is investigating Chinese employees who ...</td>\n",
       "      <td>NOT</td>\n",
       "      <td>0</td>\n",
       "    </tr>\n",
       "    <tr>\n",
       "      <th>3</th>\n",
       "      <td>62688</td>\n",
       "      <td>@USER Someone should'veTaken\" this piece of sh...</td>\n",
       "      <td>OFF</td>\n",
       "      <td>1</td>\n",
       "    </tr>\n",
       "    <tr>\n",
       "      <th>4</th>\n",
       "      <td>43605</td>\n",
       "      <td>@USER @USER Obama wanted liberals &amp;amp; illega...</td>\n",
       "      <td>NOT</td>\n",
       "      <td>0</td>\n",
       "    </tr>\n",
       "  </tbody>\n",
       "</table>\n",
       "</div>"
      ],
      "text/plain": [
       "      id                                               text label  target\n",
       "0  86426  @USER She should ask a few native Americans wh...   OFF       1\n",
       "1  90194  @USER @USER Go home you’re drunk!!! @USER #MAG...   OFF       1\n",
       "2  16820  Amazon is investigating Chinese employees who ...   NOT       0\n",
       "3  62688  @USER Someone should'veTaken\" this piece of sh...   OFF       1\n",
       "4  43605  @USER @USER Obama wanted liberals &amp; illega...   NOT       0"
      ]
     },
     "execution_count": 4,
     "metadata": {},
     "output_type": "execute_result"
    }
   ],
   "source": [
    "# rename columns if necessary\n",
    "OLID_train.rename({'tweet': 'text', 'subtask_a': 'label'}, axis=1, inplace=True) \n",
    "# convert label to a numerical/dummy variable and save in a new column\n",
    "OLID_train['target'] = OLID_train.label.map({'NOT':0, 'OFF':1}) \n",
    "# drop irrelevant columns\n",
    "OLID_train.drop(['subtask_b', 'subtask_c'], axis=1, inplace=True) \n",
    "\n",
    "# create a copy of the original data to work with \n",
    "df = OLID_train.copy()\n",
    "df.head()"
   ]
  },
  {
   "cell_type": "code",
   "execution_count": 5,
   "id": "b84dc324",
   "metadata": {},
   "outputs": [
    {
     "data": {
      "text/plain": [
       "'@USER @USER Go home you’re drunk!!! @USER #MAGA #Trump2020 👊🇺🇸👊 URL'"
      ]
     },
     "execution_count": 5,
     "metadata": {},
     "output_type": "execute_result"
    }
   ],
   "source": [
    "# Take a look at the tweet\n",
    "df.text[1]"
   ]
  },
  {
   "cell_type": "code",
   "execution_count": 6,
   "id": "0ae46ab4",
   "metadata": {},
   "outputs": [
    {
     "data": {
      "text/plain": [
       "id        0\n",
       "text      0\n",
       "label     0\n",
       "target    0\n",
       "dtype: int64"
      ]
     },
     "execution_count": 6,
     "metadata": {},
     "output_type": "execute_result"
    }
   ],
   "source": [
    "# check for missing values\n",
    "df.isnull().sum()"
   ]
  },
  {
   "cell_type": "code",
   "execution_count": 7,
   "id": "36a8836f",
   "metadata": {},
   "outputs": [
    {
     "data": {
      "text/plain": [
       "0"
      ]
     },
     "execution_count": 7,
     "metadata": {},
     "output_type": "execute_result"
    }
   ],
   "source": [
    "# check for duplicates\n",
    "df.duplicated().sum()"
   ]
  },
  {
   "cell_type": "code",
   "execution_count": 8,
   "id": "26da6d5e",
   "metadata": {},
   "outputs": [
    {
     "data": {
      "text/html": [
       "<div>\n",
       "<style scoped>\n",
       "    .dataframe tbody tr th:only-of-type {\n",
       "        vertical-align: middle;\n",
       "    }\n",
       "\n",
       "    .dataframe tbody tr th {\n",
       "        vertical-align: top;\n",
       "    }\n",
       "\n",
       "    .dataframe thead th {\n",
       "        text-align: right;\n",
       "    }\n",
       "</style>\n",
       "<table border=\"1\" class=\"dataframe\">\n",
       "  <thead>\n",
       "    <tr style=\"text-align: right;\">\n",
       "      <th></th>\n",
       "      <th>label</th>\n",
       "      <th>count</th>\n",
       "      <th>percentage</th>\n",
       "    </tr>\n",
       "  </thead>\n",
       "  <tbody>\n",
       "    <tr>\n",
       "      <th>0</th>\n",
       "      <td>NOT</td>\n",
       "      <td>8840</td>\n",
       "      <td>66.767372</td>\n",
       "    </tr>\n",
       "    <tr>\n",
       "      <th>1</th>\n",
       "      <td>OFF</td>\n",
       "      <td>4400</td>\n",
       "      <td>33.232628</td>\n",
       "    </tr>\n",
       "  </tbody>\n",
       "</table>\n",
       "</div>"
      ],
      "text/plain": [
       "  label  count  percentage\n",
       "0   NOT   8840   66.767372\n",
       "1   OFF   4400   33.232628"
      ]
     },
     "execution_count": 8,
     "metadata": {},
     "output_type": "execute_result"
    }
   ],
   "source": [
    "# check class distributions \n",
    "df_Stat=df[['label','text']].groupby('label').count().reset_index()\n",
    "df_Stat.columns=['label','count']\n",
    "df_Stat['percentage']=(df_Stat['count']/df_Stat['count'].sum())*100\n",
    "df_Stat"
   ]
  },
  {
   "cell_type": "markdown",
   "id": "9d01e2a0",
   "metadata": {},
   "source": [
    "### 2. Data preprocessing"
   ]
  },
  {
   "cell_type": "code",
   "execution_count": 9,
   "id": "a8f102ae",
   "metadata": {},
   "outputs": [
    {
     "name": "stderr",
     "output_type": "stream",
     "text": [
      "[nltk_data] Downloading package stopwords to\n",
      "[nltk_data]     C:\\Users\\bella\\AppData\\Roaming\\nltk_data...\n",
      "[nltk_data]   Package stopwords is already up-to-date!\n"
     ]
    },
    {
     "data": {
      "text/html": [
       "<div>\n",
       "<style scoped>\n",
       "    .dataframe tbody tr th:only-of-type {\n",
       "        vertical-align: middle;\n",
       "    }\n",
       "\n",
       "    .dataframe tbody tr th {\n",
       "        vertical-align: top;\n",
       "    }\n",
       "\n",
       "    .dataframe thead th {\n",
       "        text-align: right;\n",
       "    }\n",
       "</style>\n",
       "<table border=\"1\" class=\"dataframe\">\n",
       "  <thead>\n",
       "    <tr style=\"text-align: right;\">\n",
       "      <th></th>\n",
       "      <th>id</th>\n",
       "      <th>text</th>\n",
       "      <th>label</th>\n",
       "      <th>target</th>\n",
       "      <th>clean</th>\n",
       "    </tr>\n",
       "  </thead>\n",
       "  <tbody>\n",
       "    <tr>\n",
       "      <th>0</th>\n",
       "      <td>86426</td>\n",
       "      <td>@USER She should ask a few native Americans wh...</td>\n",
       "      <td>OFF</td>\n",
       "      <td>1</td>\n",
       "      <td>user ask native american take</td>\n",
       "    </tr>\n",
       "    <tr>\n",
       "      <th>1</th>\n",
       "      <td>90194</td>\n",
       "      <td>@USER @USER Go home you’re drunk!!! @USER #MAG...</td>\n",
       "      <td>OFF</td>\n",
       "      <td>1</td>\n",
       "      <td>user user go home drunk user maga trump url</td>\n",
       "    </tr>\n",
       "    <tr>\n",
       "      <th>2</th>\n",
       "      <td>16820</td>\n",
       "      <td>Amazon is investigating Chinese employees who ...</td>\n",
       "      <td>NOT</td>\n",
       "      <td>0</td>\n",
       "      <td>amazon investigating chinese employee selling ...</td>\n",
       "    </tr>\n",
       "    <tr>\n",
       "      <th>3</th>\n",
       "      <td>62688</td>\n",
       "      <td>@USER Someone should'veTaken\" this piece of sh...</td>\n",
       "      <td>OFF</td>\n",
       "      <td>1</td>\n",
       "      <td>user someone vetaken piece shit volcano</td>\n",
       "    </tr>\n",
       "    <tr>\n",
       "      <th>4</th>\n",
       "      <td>43605</td>\n",
       "      <td>@USER @USER Obama wanted liberals &amp;amp; illega...</td>\n",
       "      <td>NOT</td>\n",
       "      <td>0</td>\n",
       "      <td>user user obama wanted liberal amp illegals mo...</td>\n",
       "    </tr>\n",
       "  </tbody>\n",
       "</table>\n",
       "</div>"
      ],
      "text/plain": [
       "      id                                               text label  target  \\\n",
       "0  86426  @USER She should ask a few native Americans wh...   OFF       1   \n",
       "1  90194  @USER @USER Go home you’re drunk!!! @USER #MAG...   OFF       1   \n",
       "2  16820  Amazon is investigating Chinese employees who ...   NOT       0   \n",
       "3  62688  @USER Someone should'veTaken\" this piece of sh...   OFF       1   \n",
       "4  43605  @USER @USER Obama wanted liberals &amp; illega...   NOT       0   \n",
       "\n",
       "                                               clean  \n",
       "0                      user ask native american take  \n",
       "1        user user go home drunk user maga trump url  \n",
       "2  amazon investigating chinese employee selling ...  \n",
       "3            user someone vetaken piece shit volcano  \n",
       "4  user user obama wanted liberal amp illegals mo...  "
      ]
     },
     "execution_count": 9,
     "metadata": {},
     "output_type": "execute_result"
    }
   ],
   "source": [
    "import re # regular expression\n",
    "import nltk\n",
    "from nltk.corpus import stopwords\n",
    "nltk.download('stopwords')\n",
    "eng_stops = set(stopwords.words('english'))\n",
    "\n",
    "from nltk.stem import WordNetLemmatizer \n",
    "lemmatizer = WordNetLemmatizer() \n",
    "\n",
    "def clean(text):\n",
    "    # replace URLs with an empty string\n",
    "#     text = re.sub(r'https?://\\S+|www\\.\\S+', '', text)\n",
    "    # remove all the special characters\n",
    "    text = re.sub('[^a-zA-Z]', ' ',text) \n",
    "    # convert all letters to lower case\n",
    "    words = text.lower().split()\n",
    "    # remove stop words\n",
    "    words = [w for w in words if not w in eng_stops]    \n",
    "    # lemmatize all words\n",
    "    words = [lemmatizer.lemmatize(word) for word in words]\n",
    "    # join all words back to text\n",
    "    return (' '.join(words))\n",
    "\n",
    "df['clean'] = df['text'].apply(lambda x: clean(x))\n",
    "df.head()"
   ]
  },
  {
   "cell_type": "code",
   "execution_count": 10,
   "id": "b16ef09a",
   "metadata": {},
   "outputs": [
    {
     "data": {
      "text/plain": [
       "'@USER @USER Go home you’re drunk!!! @USER #MAGA #Trump2020 👊🇺🇸👊 URL'"
      ]
     },
     "execution_count": 10,
     "metadata": {},
     "output_type": "execute_result"
    }
   ],
   "source": [
    "df.text[1]"
   ]
  },
  {
   "cell_type": "code",
   "execution_count": 11,
   "id": "16dbd47f",
   "metadata": {},
   "outputs": [
    {
     "data": {
      "text/plain": [
       "'user user go home drunk user maga trump url'"
      ]
     },
     "execution_count": 11,
     "metadata": {},
     "output_type": "execute_result"
    }
   ],
   "source": [
    "df.clean[1]"
   ]
  },
  {
   "cell_type": "markdown",
   "id": "252144be",
   "metadata": {},
   "source": [
    "#### More complicated cases in real life:\n",
    "\n",
    "<img src=\"tweets_examples.jpg\" />\n",
    "\n",
    "###### HTML, XML characters:\n",
    "https://www.htmlhelp.com/reference/html40/entities/special.html"
   ]
  },
  {
   "cell_type": "markdown",
   "id": "52cec08f",
   "metadata": {},
   "source": [
    "### 3. Split data"
   ]
  },
  {
   "cell_type": "markdown",
   "id": "dc7b5aa7",
   "metadata": {},
   "source": [
    "###### Since this dataset is already split, we don't have to do this step now. "
   ]
  },
  {
   "cell_type": "code",
   "execution_count": null,
   "id": "703b4057",
   "metadata": {},
   "outputs": [],
   "source": [
    "# create a new DataFrame X which includes all columns from df except for the ones named \"label\" and \"target\"\n",
    "from sklearn.model_selection import train_test_split\n",
    "X = df.drop(columns = [\"label\", \"target\"])\n",
    "y = df[[\"target\"]]\n",
    "\n",
    "X_train, X_test, y_train, y_test = train_test_split(X, y, test_size=0.25, stratify=y, random_state=42)\n",
    "\n",
    "X_train.shape, X_test.shape, y_train.shape, y_test.shape"
   ]
  },
  {
   "cell_type": "markdown",
   "id": "1f00d37a",
   "metadata": {},
   "source": [
    "### 4. Baseline model"
   ]
  },
  {
   "cell_type": "markdown",
   "id": "fb716d99",
   "metadata": {},
   "source": [
    "######  SGDclassifier "
   ]
  },
  {
   "cell_type": "code",
   "execution_count": 12,
   "id": "de730bf9",
   "metadata": {},
   "outputs": [
    {
     "name": "stdout",
     "output_type": "stream",
     "text": [
      "(11916, 2) (1324, 2) (11916,) (1324,)\n",
      "              precision    recall  f1-score   support\n",
      "\n",
      "           0       0.78      0.91      0.84       884\n",
      "           1       0.73      0.47      0.58       440\n",
      "\n",
      "    accuracy                           0.77      1324\n",
      "   macro avg       0.76      0.69      0.71      1324\n",
      "weighted avg       0.76      0.77      0.75      1324\n",
      "\n"
     ]
    },
    {
     "data": {
      "image/png": "[encoded data removed]",
      "text/plain": [
       "<Figure size 500x500 with 2 Axes>"
      ]
     },
     "metadata": {},
     "output_type": "display_data"
    }
   ],
   "source": [
    "## SGD classifier with tf-idf weighted BoW\n",
    "X = df.drop(columns=['id', 'label', 'target'])\n",
    "y = df.target\n",
    "\n",
    "# Split the training data into training and validation sets\n",
    "\n",
    "X_train, X_val, y_train, y_val = train_test_split(X, y, test_size=.10, stratify=y, random_state=42)\n",
    "print(X_train.shape, X_val.shape, y_train.shape, y_val.shape)\n",
    "\n",
    "tfidf_vect = TfidfVectorizer(max_features=5000, ngram_range=(1,2), tokenizer= str.split)\n",
    "\n",
    "# Distribute the different columns to different preprocessing steps\n",
    "preprocessor = make_column_transformer(\n",
    "     (tfidf_vect, 'clean'), # assign Column clean to the vectorizer\n",
    "    remainder = 'drop') # drop Column text\n",
    "\n",
    "clf = SGDClassifier(random_state=42)\n",
    "\n",
    "pipe = make_pipeline(preprocessor,clf)\n",
    "\n",
    "pipe.fit(X_train, y_train)\n",
    "y_val_pred = pipe.predict(X_val)\n",
    "\n",
    "print(classification_report(y_val, y_val_pred))\n",
    "\n",
    "cm = confusion_matrix(y_val, y_val_pred, labels=pipe.classes_)\n",
    "disp = ConfusionMatrixDisplay(confusion_matrix=cm, display_labels=pipe.classes_)\n",
    "\n",
    "fig, ax = plt.subplots(figsize=(5,5))\n",
    "disp.plot(ax=ax);"
   ]
  },
  {
   "cell_type": "markdown",
   "id": "bc9a2322",
   "metadata": {},
   "source": [
    "### 5. Feature engineering/extraction (create additional features)"
   ]
  },
  {
   "cell_type": "markdown",
   "id": "4fb8f80d",
   "metadata": {},
   "source": [
    "###### VADER sentiment analysis"
   ]
  },
  {
   "cell_type": "code",
   "execution_count": 13,
   "id": "bf102f7d",
   "metadata": {},
   "outputs": [
    {
     "name": "stderr",
     "output_type": "stream",
     "text": [
      "[nltk_data] Downloading package vader_lexicon to\n",
      "[nltk_data]     C:\\Users\\bella\\AppData\\Roaming\\nltk_data...\n",
      "[nltk_data]   Package vader_lexicon is already up-to-date!\n"
     ]
    },
    {
     "data": {
      "text/html": [
       "<div>\n",
       "<style scoped>\n",
       "    .dataframe tbody tr th:only-of-type {\n",
       "        vertical-align: middle;\n",
       "    }\n",
       "\n",
       "    .dataframe tbody tr th {\n",
       "        vertical-align: top;\n",
       "    }\n",
       "\n",
       "    .dataframe thead th {\n",
       "        text-align: right;\n",
       "    }\n",
       "</style>\n",
       "<table border=\"1\" class=\"dataframe\">\n",
       "  <thead>\n",
       "    <tr style=\"text-align: right;\">\n",
       "      <th></th>\n",
       "      <th>id</th>\n",
       "      <th>text</th>\n",
       "      <th>label</th>\n",
       "      <th>target</th>\n",
       "      <th>clean</th>\n",
       "      <th>compound</th>\n",
       "      <th>neg</th>\n",
       "      <th>neu</th>\n",
       "      <th>pos</th>\n",
       "    </tr>\n",
       "  </thead>\n",
       "  <tbody>\n",
       "    <tr>\n",
       "      <th>0</th>\n",
       "      <td>86426</td>\n",
       "      <td>@USER She should ask a few native Americans wh...</td>\n",
       "      <td>OFF</td>\n",
       "      <td>1</td>\n",
       "      <td>user ask native american take</td>\n",
       "      <td>0.0000</td>\n",
       "      <td>0.000</td>\n",
       "      <td>1.000</td>\n",
       "      <td>0.00</td>\n",
       "    </tr>\n",
       "    <tr>\n",
       "      <th>1</th>\n",
       "      <td>90194</td>\n",
       "      <td>@USER @USER Go home you’re drunk!!! @USER #MAG...</td>\n",
       "      <td>OFF</td>\n",
       "      <td>1</td>\n",
       "      <td>user user go home drunk user maga trump url</td>\n",
       "      <td>-0.5067</td>\n",
       "      <td>0.247</td>\n",
       "      <td>0.753</td>\n",
       "      <td>0.00</td>\n",
       "    </tr>\n",
       "    <tr>\n",
       "      <th>2</th>\n",
       "      <td>16820</td>\n",
       "      <td>Amazon is investigating Chinese employees who ...</td>\n",
       "      <td>NOT</td>\n",
       "      <td>0</td>\n",
       "      <td>amazon investigating chinese employee selling ...</td>\n",
       "      <td>0.3400</td>\n",
       "      <td>0.000</td>\n",
       "      <td>0.880</td>\n",
       "      <td>0.12</td>\n",
       "    </tr>\n",
       "    <tr>\n",
       "      <th>3</th>\n",
       "      <td>62688</td>\n",
       "      <td>@USER Someone should'veTaken\" this piece of sh...</td>\n",
       "      <td>OFF</td>\n",
       "      <td>1</td>\n",
       "      <td>user someone vetaken piece shit volcano</td>\n",
       "      <td>-0.5574</td>\n",
       "      <td>0.286</td>\n",
       "      <td>0.714</td>\n",
       "      <td>0.00</td>\n",
       "    </tr>\n",
       "    <tr>\n",
       "      <th>4</th>\n",
       "      <td>43605</td>\n",
       "      <td>@USER @USER Obama wanted liberals &amp;amp; illega...</td>\n",
       "      <td>NOT</td>\n",
       "      <td>0</td>\n",
       "      <td>user user obama wanted liberal amp illegals mo...</td>\n",
       "      <td>0.0000</td>\n",
       "      <td>0.000</td>\n",
       "      <td>1.000</td>\n",
       "      <td>0.00</td>\n",
       "    </tr>\n",
       "  </tbody>\n",
       "</table>\n",
       "</div>"
      ],
      "text/plain": [
       "      id                                               text label  target  \\\n",
       "0  86426  @USER She should ask a few native Americans wh...   OFF       1   \n",
       "1  90194  @USER @USER Go home you’re drunk!!! @USER #MAG...   OFF       1   \n",
       "2  16820  Amazon is investigating Chinese employees who ...   NOT       0   \n",
       "3  62688  @USER Someone should'veTaken\" this piece of sh...   OFF       1   \n",
       "4  43605  @USER @USER Obama wanted liberals &amp; illega...   NOT       0   \n",
       "\n",
       "                                               clean  compound    neg    neu  \\\n",
       "0                      user ask native american take    0.0000  0.000  1.000   \n",
       "1        user user go home drunk user maga trump url   -0.5067  0.247  0.753   \n",
       "2  amazon investigating chinese employee selling ...    0.3400  0.000  0.880   \n",
       "3            user someone vetaken piece shit volcano   -0.5574  0.286  0.714   \n",
       "4  user user obama wanted liberal amp illegals mo...    0.0000  0.000  1.000   \n",
       "\n",
       "    pos  \n",
       "0  0.00  \n",
       "1  0.00  \n",
       "2  0.12  \n",
       "3  0.00  \n",
       "4  0.00  "
      ]
     },
     "execution_count": 13,
     "metadata": {},
     "output_type": "execute_result"
    }
   ],
   "source": [
    "import nltk\n",
    "nltk.download(['vader_lexicon'])\n",
    "from nltk.sentiment import SentimentIntensityAnalyzer\n",
    "\n",
    "analyzer = SentimentIntensityAnalyzer()\n",
    "df['compound'] = [analyzer.polarity_scores(x)['compound'] for x in df['text']]\n",
    "df['neg'] = [analyzer.polarity_scores(x)['neg'] for x in df['text']]\n",
    "df['neu'] = [analyzer.polarity_scores(x)['neu'] for x in df['text']]\n",
    "df['pos'] = [analyzer.polarity_scores(x)['pos'] for x in df['text']]\n",
    "df.head()"
   ]
  },
  {
   "cell_type": "markdown",
   "id": "d985d425",
   "metadata": {},
   "source": [
    "### 6. Machine learning models comparison"
   ]
  },
  {
   "cell_type": "markdown",
   "id": "f5f9c768",
   "metadata": {},
   "source": [
    "###### 6.1 SGDClassifier"
   ]
  },
  {
   "cell_type": "code",
   "execution_count": 14,
   "id": "d58affbf",
   "metadata": {},
   "outputs": [
    {
     "name": "stdout",
     "output_type": "stream",
     "text": [
      "(11916, 6) (1324, 6) (11916,) (1324,)\n",
      "              precision    recall  f1-score   support\n",
      "\n",
      "           0       0.83      0.80      0.81       884\n",
      "           1       0.62      0.66      0.64       440\n",
      "\n",
      "    accuracy                           0.75      1324\n",
      "   macro avg       0.72      0.73      0.73      1324\n",
      "weighted avg       0.76      0.75      0.75      1324\n",
      "\n"
     ]
    },
    {
     "data": {
      "image/png": "[encoded data removed]",
      "text/plain": [
       "<Figure size 500x500 with 2 Axes>"
      ]
     },
     "metadata": {},
     "output_type": "display_data"
    }
   ],
   "source": [
    "sdg_clf = SGDClassifier(random_state=42, class_weight='balanced') \n",
    "# \"class_weight='balanced'\": \n",
    "# If not given, all classes are supposed to have weight one. \n",
    "# The \"balanced\" mode uses the values of y to automatically adjust weights inversely proportional to class frequencies in the input data \n",
    "# as [n_samples / (n_classes * np.bincount(y))].\n",
    "\n",
    "X = df.drop(columns=['id', 'label', 'target'])\n",
    "y = df.target\n",
    "\n",
    "# Split data into training, dev and test sets\n",
    "X_train, X_val, y_train, y_val = train_test_split(X, y, test_size=.10, stratify=y, random_state=42)\n",
    "print(X_train.shape, X_val.shape, y_train.shape, y_val.shape)\n",
    "\n",
    "# Scale the numerical data so that they are comparible\n",
    "scaler = StandardScaler()\n",
    "\n",
    "tfidf_vect = TfidfVectorizer(ngram_range=(1, 2), stop_words='english')\n",
    "#tfidf_char = TfidfVectorizer(ngram_range=(2, 2), analyzer='char', stop_words='english')\n",
    "#count_vect = CountVectorizer(ngram_range=(1, 3), stop_words='english')\n",
    "\n",
    "# Distribute the different columns to different preprocessing steps\n",
    "preprocessor = make_column_transformer(\n",
    "     (scaler, ['compound', 'neg', 'neu', 'pos']),\n",
    "     (tfidf_vect, 'clean'),\n",
    "#     (tfidf_char, 'clean'), # decent results IF lemmatization disabled; otherwise, better left out (cf. count_vect)\n",
    "    remainder = 'drop')\n",
    "\n",
    "sdg_pipe = make_pipeline(preprocessor, sdg_clf)\n",
    "\n",
    "sdg_pipe.fit(X_train, y_train)\n",
    "y_val_pred = sdg_pipe.predict(X_val)\n",
    "\n",
    "print(classification_report(y_val, y_val_pred))\n",
    "\n",
    "cm = confusion_matrix(y_val, y_val_pred, labels=sdg_pipe.classes_)\n",
    "disp = ConfusionMatrixDisplay(confusion_matrix=cm, display_labels=sdg_pipe.classes_)\n",
    "\n",
    "fig, ax = plt.subplots(figsize=(5,5))\n",
    "disp.plot(ax=ax);"
   ]
  },
  {
   "cell_type": "markdown",
   "id": "3b48daff",
   "metadata": {},
   "source": [
    "###### 6.2 Logistic Regression"
   ]
  },
  {
   "cell_type": "code",
   "execution_count": 15,
   "id": "5a22c837",
   "metadata": {},
   "outputs": [
    {
     "name": "stdout",
     "output_type": "stream",
     "text": [
      "(11916, 6) (1324, 6) (11916,) (1324,)\n",
      "              precision    recall  f1-score   support\n",
      "\n",
      "           0       0.76      0.89      0.82       884\n",
      "           1       0.67      0.45      0.53       440\n",
      "\n",
      "    accuracy                           0.74      1324\n",
      "   macro avg       0.72      0.67      0.68      1324\n",
      "weighted avg       0.73      0.74      0.73      1324\n",
      "\n"
     ]
    },
    {
     "data": {
      "image/png": "[encoded data removed]",
      "text/plain": [
       "<Figure size 500x500 with 2 Axes>"
      ]
     },
     "metadata": {},
     "output_type": "display_data"
    }
   ],
   "source": [
    "from sklearn.linear_model import LogisticRegression\n",
    "\n",
    "log_clf = LogisticRegression(random_state=42, max_iter=1500)\n",
    "\n",
    "X = df.drop(columns=['id', 'label', 'target'])\n",
    "y = df.target\n",
    "\n",
    "# Split data into training, dev and test sets\n",
    "X_train, X_val, y_train, y_val = train_test_split(X, y, test_size=.10, stratify=y, random_state=42)\n",
    "print(X_train.shape, X_val.shape, y_train.shape, y_val.shape)\n",
    "\n",
    "scaler = StandardScaler()\n",
    "\n",
    "tfidf_vect = TfidfVectorizer(ngram_range=(1, 2), stop_words='english')\n",
    "#tfidf_char = TfidfVectorizer(ngram_range=(2, 2), analyzer='char', stop_words='english')\n",
    "#count_vect = CountVectorizer(ngram_range=(1, 3), stop_words='english')\n",
    "\n",
    "# We distribute the different columns to different preprocessing steps\n",
    "preprocessor = make_column_transformer(\n",
    "     (scaler, ['compound', 'neg', 'neu', 'pos']), # we scale numeric features\n",
    "     (tfidf_vect, 'clean'),\n",
    "#     (tfidf_char, 'clean'),\n",
    "    remainder = 'drop')\n",
    "\n",
    "log_pipe = make_pipeline(preprocessor, log_clf)\n",
    "\n",
    "log_pipe.fit(X_train, y_train)\n",
    "y_val_pred = log_pipe.predict(X_val)\n",
    "\n",
    "print(classification_report(y_val, y_val_pred))\n",
    "\n",
    "cm = confusion_matrix(y_val, y_val_pred, labels=log_pipe.classes_)\n",
    "disp = ConfusionMatrixDisplay(confusion_matrix=cm, display_labels=log_pipe.classes_)\n",
    "\n",
    "fig, ax = plt.subplots(figsize=(5,5))\n",
    "disp.plot(ax=ax);"
   ]
  },
  {
   "cell_type": "markdown",
   "id": "25c35580",
   "metadata": {},
   "source": [
    "#### 6.3 Decision Tree"
   ]
  },
  {
   "cell_type": "code",
   "execution_count": 16,
   "id": "56935822",
   "metadata": {},
   "outputs": [
    {
     "name": "stdout",
     "output_type": "stream",
     "text": [
      "(11916, 6) (1324, 6) (11916,) (1324,)\n",
      "              precision    recall  f1-score   support\n",
      "\n",
      "           0       0.80      0.72      0.75       884\n",
      "           1       0.53      0.64      0.58       440\n",
      "\n",
      "    accuracy                           0.69      1324\n",
      "   macro avg       0.66      0.68      0.67      1324\n",
      "weighted avg       0.71      0.69      0.70      1324\n",
      "\n"
     ]
    },
    {
     "data": {
      "image/png": "[encoded data removed]",
      "text/plain": [
       "<Figure size 500x500 with 2 Axes>"
      ]
     },
     "metadata": {},
     "output_type": "display_data"
    }
   ],
   "source": [
    "from sklearn.tree import DecisionTreeClassifier\n",
    "\n",
    "dt_clf = DecisionTreeClassifier(random_state=42, class_weight='balanced', max_depth=5)\n",
    "\n",
    "X = df.drop(columns=['id', 'label', 'target'])\n",
    "y = df.target\n",
    "\n",
    "# Split data into training, dev and test sets\n",
    "X_train, X_val, y_train, y_val = train_test_split(X, y, test_size=.10, stratify=y, random_state=42)\n",
    "print(X_train.shape, X_val.shape, y_train.shape, y_val.shape)\n",
    "\n",
    "scaler = StandardScaler()\n",
    "\n",
    "tfidf_vect = TfidfVectorizer(ngram_range=(1, 2), stop_words='english')\n",
    "#tfidf_char = TfidfVectorizer(ngram_range=(2, 2), analyzer='char', stop_words='english')\n",
    "#count_vect = CountVectorizer(ngram_range=(1, 3), stop_words='english')\n",
    "\n",
    "# We distribute the different columns to different preprocessing steps\n",
    "preprocessor = make_column_transformer(\n",
    "     (scaler, ['compound', 'neg', 'neu', 'pos']), # we scale numeric features\n",
    "     (tfidf_vect, 'clean'),\n",
    "#     (tfidf_char, 'clean'),\n",
    "    remainder = 'drop')\n",
    "\n",
    "dt_pipe = make_pipeline(preprocessor, dt_clf)\n",
    "\n",
    "dt_pipe.fit(X_train, y_train)\n",
    "y_val_pred = dt_pipe.predict(X_val)\n",
    "\n",
    "print(classification_report(y_val, y_val_pred))\n",
    "\n",
    "cm = confusion_matrix(y_val, y_val_pred, labels=dt_pipe.classes_)\n",
    "disp = ConfusionMatrixDisplay(confusion_matrix=cm, display_labels=dt_pipe.classes_)\n",
    "\n",
    "fig, ax = plt.subplots(figsize=(5,5))\n",
    "disp.plot(ax=ax);"
   ]
  },
  {
   "cell_type": "markdown",
   "id": "d528c7a1",
   "metadata": {},
   "source": [
    "#### 6.4 Random Forest"
   ]
  },
  {
   "cell_type": "code",
   "execution_count": 35,
   "id": "d5ca886e",
   "metadata": {},
   "outputs": [
    {
     "name": "stdout",
     "output_type": "stream",
     "text": [
      "(11916, 6) (1324, 6) (11916,) (1324,)\n",
      "              precision    recall  f1-score   support\n",
      "\n",
      "           0       0.76      0.91      0.83       884\n",
      "           1       0.70      0.41      0.51       440\n",
      "\n",
      "    accuracy                           0.74      1324\n",
      "   macro avg       0.73      0.66      0.67      1324\n",
      "weighted avg       0.74      0.74      0.72      1324\n",
      "\n"
     ]
    },
    {
     "data": {
      "image/png": "[encoded data removed]",
      "text/plain": [
       "<Figure size 500x500 with 2 Axes>"
      ]
     },
     "metadata": {},
     "output_type": "display_data"
    }
   ],
   "source": [
    "from sklearn.ensemble import RandomForestClassifier, AdaBoostClassifier\n",
    "\n",
    "rf_clf = RandomForestClassifier(random_state=42, class_weight='balanced')\n",
    "\n",
    "X = df.drop(columns=['id', 'label', 'target'])\n",
    "y = df.target\n",
    "\n",
    "# Split data into training, dev and test sets\n",
    "X_train, X_val, y_train, y_val = train_test_split(X, y, test_size=.10, stratify=y, random_state=42)\n",
    "print(X_train.shape, X_val.shape, y_train.shape, y_val.shape)\n",
    "\n",
    "scaler = StandardScaler()\n",
    "\n",
    "tfidf_vect = TfidfVectorizer(ngram_range=(1, 2), stop_words='english')\n",
    "#tfidf_char = TfidfVectorizer(ngram_range=(2, 2), analyzer='char', stop_words='english')\n",
    "#count_vect = CountVectorizer(ngram_range=(1, 3), stop_words='english')\n",
    "\n",
    "# We distribute the different columns to different preprocessing steps\n",
    "preprocessor = make_column_transformer(\n",
    "     (scaler, ['compound', 'neg', 'neu', 'pos']), # we scale numeric features\n",
    "     (tfidf_vect, 'clean'),\n",
    "#     (tfidf_char, 'clean'),\n",
    "    remainder = 'drop')\n",
    "\n",
    "rf_pipe = make_pipeline(preprocessor, rf_clf)\n",
    "\n",
    "rf_pipe.fit(X_train, y_train)\n",
    "y_val_pred = rf_pipe.predict(X_val)\n",
    "\n",
    "print(classification_report(y_val, y_val_pred))\n",
    "\n",
    "cm = confusion_matrix(y_val, y_val_pred, labels=rf_pipe.classes_)\n",
    "disp = ConfusionMatrixDisplay(confusion_matrix=cm, display_labels=rf_pipe.classes_)\n",
    "\n",
    "fig, ax = plt.subplots(figsize=(5,5))\n",
    "disp.plot(ax=ax);"
   ]
  },
  {
   "cell_type": "markdown",
   "id": "741cb239",
   "metadata": {},
   "source": [
    "###### 6.5 KNN"
   ]
  },
  {
   "cell_type": "code",
   "execution_count": 17,
   "id": "3a7bb626",
   "metadata": {},
   "outputs": [
    {
     "name": "stdout",
     "output_type": "stream",
     "text": [
      "(11916, 6) (1324, 6) (11916,) (1324,)\n",
      "              precision    recall  f1-score   support\n",
      "\n",
      "           0       0.74      0.88      0.80       884\n",
      "           1       0.61      0.40      0.48       440\n",
      "\n",
      "    accuracy                           0.72      1324\n",
      "   macro avg       0.68      0.64      0.64      1324\n",
      "weighted avg       0.70      0.72      0.70      1324\n",
      "\n"
     ]
    },
    {
     "data": {
      "image/png": "[encoded data removed]",
      "text/plain": [
       "<Figure size 500x500 with 2 Axes>"
      ]
     },
     "metadata": {},
     "output_type": "display_data"
    }
   ],
   "source": [
    "from sklearn.neighbors import KNeighborsClassifier\n",
    "\n",
    "knn_clf = KNeighborsClassifier(15)\n",
    "\n",
    "X = df.drop(columns=['id', 'label', 'target'])\n",
    "y = df.target\n",
    "\n",
    "# Split data into training, dev and test sets\n",
    "X_train, X_val, y_train, y_val = train_test_split(X, y, test_size=.10, stratify=y, random_state=42)\n",
    "print(X_train.shape, X_val.shape, y_train.shape, y_val.shape)\n",
    "\n",
    "scaler = StandardScaler()\n",
    "\n",
    "tfidf_vect = TfidfVectorizer(ngram_range=(1, 2), stop_words='english')\n",
    "#tfidf_char = TfidfVectorizer(ngram_range=(2, 2), analyzer='char', stop_words='english')\n",
    "#count_vect = CountVectorizer(ngram_range=(1, 3), stop_words='english')\n",
    "\n",
    "# We distribute the different columns to different preprocessing steps\n",
    "preprocessor = make_column_transformer(\n",
    "     (scaler, ['compound', 'neg', 'neu', 'pos']), # we scale numeric features\n",
    "     (tfidf_vect, 'clean'),\n",
    "#     (tfidf_char, 'clean'),\n",
    "    remainder = 'drop')\n",
    "\n",
    "knn_pipe = make_pipeline(preprocessor, knn_clf)\n",
    "\n",
    "knn_pipe.fit(X_train, y_train)\n",
    "y_val_pred = knn_pipe.predict(X_val)\n",
    "\n",
    "print(classification_report(y_val, y_val_pred))\n",
    "\n",
    "cm = confusion_matrix(y_val, y_val_pred, labels=knn_pipe.classes_)\n",
    "disp = ConfusionMatrixDisplay(confusion_matrix=cm, display_labels=knn_pipe.classes_)\n",
    "\n",
    "fig, ax = plt.subplots(figsize=(5,5))\n",
    "disp.plot(ax=ax);"
   ]
  },
  {
   "cell_type": "markdown",
   "id": "e6384abe",
   "metadata": {},
   "source": [
    "#### 6.6 SVM"
   ]
  },
  {
   "cell_type": "code",
   "execution_count": 18,
   "id": "219e86e4",
   "metadata": {},
   "outputs": [
    {
     "name": "stdout",
     "output_type": "stream",
     "text": [
      "(11916, 6) (1324, 6) (11916,) (1324,)\n",
      "              precision    recall  f1-score   support\n",
      "\n",
      "           0       0.81      0.81      0.81       884\n",
      "           1       0.62      0.62      0.62       440\n",
      "\n",
      "    accuracy                           0.75      1324\n",
      "   macro avg       0.72      0.72      0.72      1324\n",
      "weighted avg       0.75      0.75      0.75      1324\n",
      "\n"
     ]
    },
    {
     "data": {
      "image/png": "[encoded data removed]",
      "text/plain": [
       "<Figure size 500x500 with 2 Axes>"
      ]
     },
     "metadata": {},
     "output_type": "display_data"
    }
   ],
   "source": [
    "from sklearn.svm import LinearSVC # LinearSVC gave better results than regular SVM (with linear/rbf/poly kernel)\n",
    "\n",
    "svm_clf = LinearSVC(random_state=42, class_weight='balanced', max_iter=3000) # max_iter=1500\n",
    "\n",
    "X = df.drop(columns=['id', 'label', 'target'])\n",
    "y = df.target\n",
    "\n",
    "# Split data into training, dev and test sets\n",
    "X_train, X_val, y_train, y_val = train_test_split(X, y, test_size=.10, stratify=y, random_state=42)\n",
    "print(X_train.shape, X_val.shape, y_train.shape, y_val.shape)\n",
    "\n",
    "scaler = StandardScaler()\n",
    "\n",
    "tfidf_vect = TfidfVectorizer(ngram_range=(1, 2), stop_words='english')\n",
    "#tfidf_char = TfidfVectorizer(ngram_range=(2, 2), analyzer='char', stop_words='english')\n",
    "#count_vect = CountVectorizer(ngram_range=(1, 3), stop_words='english')\n",
    "\n",
    "# We distribute the different columns to different preprocessing steps\n",
    "preprocessor = make_column_transformer(\n",
    "     (scaler, ['compound', 'neg', 'neu', 'pos']), # we scale numeric features\n",
    "     (tfidf_vect, 'clean'),\n",
    "#     (tfidf_char, 'clean'),\n",
    "    remainder = 'drop')\n",
    "\n",
    "svm_pipe = make_pipeline(preprocessor, svm_clf)\n",
    "\n",
    "svm_pipe.fit(X_train, y_train)\n",
    "y_val_pred = svm_pipe.predict(X_val)\n",
    "\n",
    "print(classification_report(y_val, y_val_pred))\n",
    "\n",
    "cm = confusion_matrix(y_val, y_val_pred, labels=svm_pipe.classes_)\n",
    "disp = ConfusionMatrixDisplay(confusion_matrix=cm, display_labels=svm_pipe.classes_)\n",
    "\n",
    "fig, ax = plt.subplots(figsize=(5,5))\n",
    "disp.plot(ax=ax);"
   ]
  },
  {
   "cell_type": "markdown",
   "id": "37fbbdd2",
   "metadata": {},
   "source": [
    "### The above results tell us that SDGClassifer performs the best."
   ]
  },
  {
   "cell_type": "markdown",
   "id": "7c54fc5e",
   "metadata": {},
   "source": [
    "### 7. Fine-tune the best model (cross-validation with grid search)"
   ]
  },
  {
   "cell_type": "code",
   "execution_count": 19,
   "id": "7e23030a",
   "metadata": {},
   "outputs": [
    {
     "data": {
      "text/plain": [
       "{'columntransformer': ColumnTransformer(transformers=[('standardscaler', StandardScaler(),\n",
       "                                  ['compound', 'neg', 'neu', 'pos']),\n",
       "                                 ('tfidfvectorizer',\n",
       "                                  TfidfVectorizer(ngram_range=(1, 2),\n",
       "                                                  stop_words='english'),\n",
       "                                  'clean')]),\n",
       " 'sgdclassifier': SGDClassifier(class_weight='balanced', random_state=42)}"
      ]
     },
     "execution_count": 19,
     "metadata": {},
     "output_type": "execute_result"
    }
   ],
   "source": [
    "# Take a look at the steps of the pipeline with SDGClassifier, so that we can work on the parameter grid\n",
    "sdg_pipe.named_steps"
   ]
  },
  {
   "cell_type": "code",
   "execution_count": 22,
   "id": "7e34f715",
   "metadata": {},
   "outputs": [
    {
     "name": "stdout",
     "output_type": "stream",
     "text": [
      "Fitting 5 folds for each of 14 candidates, totalling 70 fits\n"
     ]
    },
    {
     "data": {
      "text/html": [
       "<style>#sk-container-id-2 {color: black;}#sk-container-id-2 pre{padding: 0;}#sk-container-id-2 div.sk-toggleable {background-color: white;}#sk-container-id-2 label.sk-toggleable__label {cursor: pointer;display: block;width: 100%;margin-bottom: 0;padding: 0.3em;box-sizing: border-box;text-align: center;}#sk-container-id-2 label.sk-toggleable__label-arrow:before {content: \"▸\";float: left;margin-right: 0.25em;color: #696969;}#sk-container-id-2 label.sk-toggleable__label-arrow:hover:before {color: black;}#sk-container-id-2 div.sk-estimator:hover label.sk-toggleable__label-arrow:before {color: black;}#sk-container-id-2 div.sk-toggleable__content {max-height: 0;max-width: 0;overflow: hidden;text-align: left;background-color: #f0f8ff;}#sk-container-id-2 div.sk-toggleable__content pre {margin: 0.2em;color: black;border-radius: 0.25em;background-color: #f0f8ff;}#sk-container-id-2 input.sk-toggleable__control:checked~div.sk-toggleable__content {max-height: 200px;max-width: 100%;overflow: auto;}#sk-container-id-2 input.sk-toggleable__control:checked~label.sk-toggleable__label-arrow:before {content: \"▾\";}#sk-container-id-2 div.sk-estimator input.sk-toggleable__control:checked~label.sk-toggleable__label {background-color: #d4ebff;}#sk-container-id-2 div.sk-label input.sk-toggleable__control:checked~label.sk-toggleable__label {background-color: #d4ebff;}#sk-container-id-2 input.sk-hidden--visually {border: 0;clip: rect(1px 1px 1px 1px);clip: rect(1px, 1px, 1px, 1px);height: 1px;margin: -1px;overflow: hidden;padding: 0;position: absolute;width: 1px;}#sk-container-id-2 div.sk-estimator {font-family: monospace;background-color: #f0f8ff;border: 1px dotted black;border-radius: 0.25em;box-sizing: border-box;margin-bottom: 0.5em;}#sk-container-id-2 div.sk-estimator:hover {background-color: #d4ebff;}#sk-container-id-2 div.sk-parallel-item::after {content: \"\";width: 100%;border-bottom: 1px solid gray;flex-grow: 1;}#sk-container-id-2 div.sk-label:hover label.sk-toggleable__label {background-color: #d4ebff;}#sk-container-id-2 div.sk-serial::before {content: \"\";position: absolute;border-left: 1px solid gray;box-sizing: border-box;top: 0;bottom: 0;left: 50%;z-index: 0;}#sk-container-id-2 div.sk-serial {display: flex;flex-direction: column;align-items: center;background-color: white;padding-right: 0.2em;padding-left: 0.2em;position: relative;}#sk-container-id-2 div.sk-item {position: relative;z-index: 1;}#sk-container-id-2 div.sk-parallel {display: flex;align-items: stretch;justify-content: center;background-color: white;position: relative;}#sk-container-id-2 div.sk-item::before, #sk-container-id-2 div.sk-parallel-item::before {content: \"\";position: absolute;border-left: 1px solid gray;box-sizing: border-box;top: 0;bottom: 0;left: 50%;z-index: -1;}#sk-container-id-2 div.sk-parallel-item {display: flex;flex-direction: column;z-index: 1;position: relative;background-color: white;}#sk-container-id-2 div.sk-parallel-item:first-child::after {align-self: flex-end;width: 50%;}#sk-container-id-2 div.sk-parallel-item:last-child::after {align-self: flex-start;width: 50%;}#sk-container-id-2 div.sk-parallel-item:only-child::after {width: 0;}#sk-container-id-2 div.sk-dashed-wrapped {border: 1px dashed gray;margin: 0 0.4em 0.5em 0.4em;box-sizing: border-box;padding-bottom: 0.4em;background-color: white;}#sk-container-id-2 div.sk-label label {font-family: monospace;font-weight: bold;display: inline-block;line-height: 1.2em;}#sk-container-id-2 div.sk-label-container {text-align: center;}#sk-container-id-2 div.sk-container {/* jupyter's `normalize.less` sets `[hidden] { display: none; }` but bootstrap.min.css set `[hidden] { display: none !important; }` so we also need the `!important` here to be able to override the default hidden behavior on the sphinx rendered scikit-learn.org. See: https://github.com/scikit-learn/scikit-learn/issues/21755 */display: inline-block !important;position: relative;}#sk-container-id-2 div.sk-text-repr-fallback {display: none;}</style><div id=\"sk-container-id-2\" class=\"sk-top-container\"><div class=\"sk-text-repr-fallback\"><pre>GridSearchCV(cv=5,\n",
       "             estimator=Pipeline(steps=[(&#x27;columntransformer&#x27;,\n",
       "                                        ColumnTransformer(transformers=[(&#x27;standardscaler&#x27;,\n",
       "                                                                         StandardScaler(),\n",
       "                                                                         [&#x27;compound&#x27;,\n",
       "                                                                          &#x27;neg&#x27;,\n",
       "                                                                          &#x27;neu&#x27;,\n",
       "                                                                          &#x27;pos&#x27;]),\n",
       "                                                                        (&#x27;tfidfvectorizer&#x27;,\n",
       "                                                                         TfidfVectorizer(ngram_range=(1,\n",
       "                                                                                                      2),\n",
       "                                                                                         stop_words=&#x27;english&#x27;),\n",
       "                                                                         &#x27;clean&#x27;)])),\n",
       "                                       (&#x27;sgdclassifier&#x27;,\n",
       "                                        SGDClassifier(class_weight=&#x27;balanced&#x27;,\n",
       "                                                      random_state=42))]),\n",
       "             n_jobs=-1,\n",
       "             param_grid=[{&#x27;columntransformer__tfidfvectorizer__ngram_range&#x27;: [(1,\n",
       "                                                                               1),\n",
       "                                                                              (1,\n",
       "                                                                               2),\n",
       "                                                                              (2,\n",
       "                                                                               2),\n",
       "                                                                              (1,\n",
       "                                                                               3),\n",
       "                                                                              (1,\n",
       "                                                                               4),\n",
       "                                                                              (1,\n",
       "                                                                               6),\n",
       "                                                                              (2,\n",
       "                                                                               7)],\n",
       "                          &#x27;sgdclassifier__loss&#x27;: [&#x27;hinge&#x27;, &#x27;log&#x27;]}],\n",
       "             scoring=&#x27;f1_macro&#x27;, verbose=1)</pre><b>In a Jupyter environment, please rerun this cell to show the HTML representation or trust the notebook. <br />On GitHub, the HTML representation is unable to render, please try loading this page with nbviewer.org.</b></div><div class=\"sk-container\" hidden><div class=\"sk-item sk-dashed-wrapped\"><div class=\"sk-label-container\"><div class=\"sk-label sk-toggleable\"><input class=\"sk-toggleable__control sk-hidden--visually\" id=\"sk-estimator-id-9\" type=\"checkbox\" ><label for=\"sk-estimator-id-9\" class=\"sk-toggleable__label sk-toggleable__label-arrow\">GridSearchCV</label><div class=\"sk-toggleable__content\"><pre>GridSearchCV(cv=5,\n",
       "             estimator=Pipeline(steps=[(&#x27;columntransformer&#x27;,\n",
       "                                        ColumnTransformer(transformers=[(&#x27;standardscaler&#x27;,\n",
       "                                                                         StandardScaler(),\n",
       "                                                                         [&#x27;compound&#x27;,\n",
       "                                                                          &#x27;neg&#x27;,\n",
       "                                                                          &#x27;neu&#x27;,\n",
       "                                                                          &#x27;pos&#x27;]),\n",
       "                                                                        (&#x27;tfidfvectorizer&#x27;,\n",
       "                                                                         TfidfVectorizer(ngram_range=(1,\n",
       "                                                                                                      2),\n",
       "                                                                                         stop_words=&#x27;english&#x27;),\n",
       "                                                                         &#x27;clean&#x27;)])),\n",
       "                                       (&#x27;sgdclassifier&#x27;,\n",
       "                                        SGDClassifier(class_weight=&#x27;balanced&#x27;,\n",
       "                                                      random_state=42))]),\n",
       "             n_jobs=-1,\n",
       "             param_grid=[{&#x27;columntransformer__tfidfvectorizer__ngram_range&#x27;: [(1,\n",
       "                                                                               1),\n",
       "                                                                              (1,\n",
       "                                                                               2),\n",
       "                                                                              (2,\n",
       "                                                                               2),\n",
       "                                                                              (1,\n",
       "                                                                               3),\n",
       "                                                                              (1,\n",
       "                                                                               4),\n",
       "                                                                              (1,\n",
       "                                                                               6),\n",
       "                                                                              (2,\n",
       "                                                                               7)],\n",
       "                          &#x27;sgdclassifier__loss&#x27;: [&#x27;hinge&#x27;, &#x27;log&#x27;]}],\n",
       "             scoring=&#x27;f1_macro&#x27;, verbose=1)</pre></div></div></div><div class=\"sk-parallel\"><div class=\"sk-parallel-item\"><div class=\"sk-item\"><div class=\"sk-label-container\"><div class=\"sk-label sk-toggleable\"><input class=\"sk-toggleable__control sk-hidden--visually\" id=\"sk-estimator-id-10\" type=\"checkbox\" ><label for=\"sk-estimator-id-10\" class=\"sk-toggleable__label sk-toggleable__label-arrow\">estimator: Pipeline</label><div class=\"sk-toggleable__content\"><pre>Pipeline(steps=[(&#x27;columntransformer&#x27;,\n",
       "                 ColumnTransformer(transformers=[(&#x27;standardscaler&#x27;,\n",
       "                                                  StandardScaler(),\n",
       "                                                  [&#x27;compound&#x27;, &#x27;neg&#x27;, &#x27;neu&#x27;,\n",
       "                                                   &#x27;pos&#x27;]),\n",
       "                                                 (&#x27;tfidfvectorizer&#x27;,\n",
       "                                                  TfidfVectorizer(ngram_range=(1,\n",
       "                                                                               2),\n",
       "                                                                  stop_words=&#x27;english&#x27;),\n",
       "                                                  &#x27;clean&#x27;)])),\n",
       "                (&#x27;sgdclassifier&#x27;,\n",
       "                 SGDClassifier(class_weight=&#x27;balanced&#x27;, random_state=42))])</pre></div></div></div><div class=\"sk-serial\"><div class=\"sk-item\"><div class=\"sk-serial\"><div class=\"sk-item sk-dashed-wrapped\"><div class=\"sk-label-container\"><div class=\"sk-label sk-toggleable\"><input class=\"sk-toggleable__control sk-hidden--visually\" id=\"sk-estimator-id-11\" type=\"checkbox\" ><label for=\"sk-estimator-id-11\" class=\"sk-toggleable__label sk-toggleable__label-arrow\">columntransformer: ColumnTransformer</label><div class=\"sk-toggleable__content\"><pre>ColumnTransformer(transformers=[(&#x27;standardscaler&#x27;, StandardScaler(),\n",
       "                                 [&#x27;compound&#x27;, &#x27;neg&#x27;, &#x27;neu&#x27;, &#x27;pos&#x27;]),\n",
       "                                (&#x27;tfidfvectorizer&#x27;,\n",
       "                                 TfidfVectorizer(ngram_range=(1, 2),\n",
       "                                                 stop_words=&#x27;english&#x27;),\n",
       "                                 &#x27;clean&#x27;)])</pre></div></div></div><div class=\"sk-parallel\"><div class=\"sk-parallel-item\"><div class=\"sk-item\"><div class=\"sk-label-container\"><div class=\"sk-label sk-toggleable\"><input class=\"sk-toggleable__control sk-hidden--visually\" id=\"sk-estimator-id-12\" type=\"checkbox\" ><label for=\"sk-estimator-id-12\" class=\"sk-toggleable__label sk-toggleable__label-arrow\">standardscaler</label><div class=\"sk-toggleable__content\"><pre>[&#x27;compound&#x27;, &#x27;neg&#x27;, &#x27;neu&#x27;, &#x27;pos&#x27;]</pre></div></div></div><div class=\"sk-serial\"><div class=\"sk-item\"><div class=\"sk-estimator sk-toggleable\"><input class=\"sk-toggleable__control sk-hidden--visually\" id=\"sk-estimator-id-13\" type=\"checkbox\" ><label for=\"sk-estimator-id-13\" class=\"sk-toggleable__label sk-toggleable__label-arrow\">StandardScaler</label><div class=\"sk-toggleable__content\"><pre>StandardScaler()</pre></div></div></div></div></div></div><div class=\"sk-parallel-item\"><div class=\"sk-item\"><div class=\"sk-label-container\"><div class=\"sk-label sk-toggleable\"><input class=\"sk-toggleable__control sk-hidden--visually\" id=\"sk-estimator-id-14\" type=\"checkbox\" ><label for=\"sk-estimator-id-14\" class=\"sk-toggleable__label sk-toggleable__label-arrow\">tfidfvectorizer</label><div class=\"sk-toggleable__content\"><pre>clean</pre></div></div></div><div class=\"sk-serial\"><div class=\"sk-item\"><div class=\"sk-estimator sk-toggleable\"><input class=\"sk-toggleable__control sk-hidden--visually\" id=\"sk-estimator-id-15\" type=\"checkbox\" ><label for=\"sk-estimator-id-15\" class=\"sk-toggleable__label sk-toggleable__label-arrow\">TfidfVectorizer</label><div class=\"sk-toggleable__content\"><pre>TfidfVectorizer(ngram_range=(1, 2), stop_words=&#x27;english&#x27;)</pre></div></div></div></div></div></div></div></div><div class=\"sk-item\"><div class=\"sk-estimator sk-toggleable\"><input class=\"sk-toggleable__control sk-hidden--visually\" id=\"sk-estimator-id-16\" type=\"checkbox\" ><label for=\"sk-estimator-id-16\" class=\"sk-toggleable__label sk-toggleable__label-arrow\">SGDClassifier</label><div class=\"sk-toggleable__content\"><pre>SGDClassifier(class_weight=&#x27;balanced&#x27;, random_state=42)</pre></div></div></div></div></div></div></div></div></div></div></div></div>"
      ],
      "text/plain": [
       "GridSearchCV(cv=5,\n",
       "             estimator=Pipeline(steps=[('columntransformer',\n",
       "                                        ColumnTransformer(transformers=[('standardscaler',\n",
       "                                                                         StandardScaler(),\n",
       "                                                                         ['compound',\n",
       "                                                                          'neg',\n",
       "                                                                          'neu',\n",
       "                                                                          'pos']),\n",
       "                                                                        ('tfidfvectorizer',\n",
       "                                                                         TfidfVectorizer(ngram_range=(1,\n",
       "                                                                                                      2),\n",
       "                                                                                         stop_words='english'),\n",
       "                                                                         'clean')])),\n",
       "                                       ('sgdclassifier',\n",
       "                                        SGDClassifier(class_weight='balanced',\n",
       "                                                      random_state=42))]),\n",
       "             n_jobs=-1,\n",
       "             param_grid=[{'columntransformer__tfidfvectorizer__ngram_range': [(1,\n",
       "                                                                               1),\n",
       "                                                                              (1,\n",
       "                                                                               2),\n",
       "                                                                              (2,\n",
       "                                                                               2),\n",
       "                                                                              (1,\n",
       "                                                                               3),\n",
       "                                                                              (1,\n",
       "                                                                               4),\n",
       "                                                                              (1,\n",
       "                                                                               6),\n",
       "                                                                              (2,\n",
       "                                                                               7)],\n",
       "                          'sgdclassifier__loss': ['hinge', 'log']}],\n",
       "             scoring='f1_macro', verbose=1)"
      ]
     },
     "execution_count": 22,
     "metadata": {},
     "output_type": "execute_result"
    }
   ],
   "source": [
    "X = df.drop(columns=['id', 'label', 'target'])\n",
    "y = df.target\n",
    "\n",
    "params = [{\n",
    "    'columntransformer__tfidfvectorizer__ngram_range': [(1, 1), (1, 2), (2, 2), (1, 3), (1, 4), (1, 6), (2, 7)],\n",
    "    'sgdclassifier__loss': ['hinge', 'log'] # try different loss functions\n",
    "    }]\n",
    "\n",
    "gs = GridSearchCV(sdg_pipe, params, n_jobs=-1, cv=5, verbose=1, scoring='f1_macro')\n",
    "\n",
    "# Feed it with the whole training data now (more data for a better training)\n",
    "gs.fit(X, y)"
   ]
  },
  {
   "cell_type": "code",
   "execution_count": 23,
   "id": "0513e2be",
   "metadata": {},
   "outputs": [
    {
     "name": "stdout",
     "output_type": "stream",
     "text": [
      "0.7250339472394585\n",
      "{'columntransformer__tfidfvectorizer__ngram_range': (1, 2), 'sgdclassifier__loss': 'hinge'}\n"
     ]
    }
   ],
   "source": [
    "print(gs.best_score_)  # top score\n",
    "print(gs.best_params_) # best param settings -> GridSearch for hyper-parameter tuning once a model has been decided"
   ]
  },
  {
   "cell_type": "code",
   "execution_count": 31,
   "id": "1afad968",
   "metadata": {},
   "outputs": [
    {
     "data": {
      "text/html": [
       "<style>#sk-container-id-3 {color: black;}#sk-container-id-3 pre{padding: 0;}#sk-container-id-3 div.sk-toggleable {background-color: white;}#sk-container-id-3 label.sk-toggleable__label {cursor: pointer;display: block;width: 100%;margin-bottom: 0;padding: 0.3em;box-sizing: border-box;text-align: center;}#sk-container-id-3 label.sk-toggleable__label-arrow:before {content: \"▸\";float: left;margin-right: 0.25em;color: #696969;}#sk-container-id-3 label.sk-toggleable__label-arrow:hover:before {color: black;}#sk-container-id-3 div.sk-estimator:hover label.sk-toggleable__label-arrow:before {color: black;}#sk-container-id-3 div.sk-toggleable__content {max-height: 0;max-width: 0;overflow: hidden;text-align: left;background-color: #f0f8ff;}#sk-container-id-3 div.sk-toggleable__content pre {margin: 0.2em;color: black;border-radius: 0.25em;background-color: #f0f8ff;}#sk-container-id-3 input.sk-toggleable__control:checked~div.sk-toggleable__content {max-height: 200px;max-width: 100%;overflow: auto;}#sk-container-id-3 input.sk-toggleable__control:checked~label.sk-toggleable__label-arrow:before {content: \"▾\";}#sk-container-id-3 div.sk-estimator input.sk-toggleable__control:checked~label.sk-toggleable__label {background-color: #d4ebff;}#sk-container-id-3 div.sk-label input.sk-toggleable__control:checked~label.sk-toggleable__label {background-color: #d4ebff;}#sk-container-id-3 input.sk-hidden--visually {border: 0;clip: rect(1px 1px 1px 1px);clip: rect(1px, 1px, 1px, 1px);height: 1px;margin: -1px;overflow: hidden;padding: 0;position: absolute;width: 1px;}#sk-container-id-3 div.sk-estimator {font-family: monospace;background-color: #f0f8ff;border: 1px dotted black;border-radius: 0.25em;box-sizing: border-box;margin-bottom: 0.5em;}#sk-container-id-3 div.sk-estimator:hover {background-color: #d4ebff;}#sk-container-id-3 div.sk-parallel-item::after {content: \"\";width: 100%;border-bottom: 1px solid gray;flex-grow: 1;}#sk-container-id-3 div.sk-label:hover label.sk-toggleable__label {background-color: #d4ebff;}#sk-container-id-3 div.sk-serial::before {content: \"\";position: absolute;border-left: 1px solid gray;box-sizing: border-box;top: 0;bottom: 0;left: 50%;z-index: 0;}#sk-container-id-3 div.sk-serial {display: flex;flex-direction: column;align-items: center;background-color: white;padding-right: 0.2em;padding-left: 0.2em;position: relative;}#sk-container-id-3 div.sk-item {position: relative;z-index: 1;}#sk-container-id-3 div.sk-parallel {display: flex;align-items: stretch;justify-content: center;background-color: white;position: relative;}#sk-container-id-3 div.sk-item::before, #sk-container-id-3 div.sk-parallel-item::before {content: \"\";position: absolute;border-left: 1px solid gray;box-sizing: border-box;top: 0;bottom: 0;left: 50%;z-index: -1;}#sk-container-id-3 div.sk-parallel-item {display: flex;flex-direction: column;z-index: 1;position: relative;background-color: white;}#sk-container-id-3 div.sk-parallel-item:first-child::after {align-self: flex-end;width: 50%;}#sk-container-id-3 div.sk-parallel-item:last-child::after {align-self: flex-start;width: 50%;}#sk-container-id-3 div.sk-parallel-item:only-child::after {width: 0;}#sk-container-id-3 div.sk-dashed-wrapped {border: 1px dashed gray;margin: 0 0.4em 0.5em 0.4em;box-sizing: border-box;padding-bottom: 0.4em;background-color: white;}#sk-container-id-3 div.sk-label label {font-family: monospace;font-weight: bold;display: inline-block;line-height: 1.2em;}#sk-container-id-3 div.sk-label-container {text-align: center;}#sk-container-id-3 div.sk-container {/* jupyter's `normalize.less` sets `[hidden] { display: none; }` but bootstrap.min.css set `[hidden] { display: none !important; }` so we also need the `!important` here to be able to override the default hidden behavior on the sphinx rendered scikit-learn.org. See: https://github.com/scikit-learn/scikit-learn/issues/21755 */display: inline-block !important;position: relative;}#sk-container-id-3 div.sk-text-repr-fallback {display: none;}</style><div id=\"sk-container-id-3\" class=\"sk-top-container\"><div class=\"sk-text-repr-fallback\"><pre>Pipeline(steps=[(&#x27;columntransformer&#x27;,\n",
       "                 ColumnTransformer(transformers=[(&#x27;standardscaler&#x27;,\n",
       "                                                  StandardScaler(),\n",
       "                                                  [&#x27;compound&#x27;, &#x27;neg&#x27;, &#x27;neu&#x27;,\n",
       "                                                   &#x27;pos&#x27;]),\n",
       "                                                 (&#x27;tfidfvectorizer&#x27;,\n",
       "                                                  TfidfVectorizer(ngram_range=(1,\n",
       "                                                                               2),\n",
       "                                                                  stop_words=&#x27;english&#x27;),\n",
       "                                                  &#x27;clean&#x27;)])),\n",
       "                (&#x27;sgdclassifier&#x27;,\n",
       "                 SGDClassifier(class_weight=&#x27;balanced&#x27;, random_state=42))])</pre><b>In a Jupyter environment, please rerun this cell to show the HTML representation or trust the notebook. <br />On GitHub, the HTML representation is unable to render, please try loading this page with nbviewer.org.</b></div><div class=\"sk-container\" hidden><div class=\"sk-item sk-dashed-wrapped\"><div class=\"sk-label-container\"><div class=\"sk-label sk-toggleable\"><input class=\"sk-toggleable__control sk-hidden--visually\" id=\"sk-estimator-id-17\" type=\"checkbox\" ><label for=\"sk-estimator-id-17\" class=\"sk-toggleable__label sk-toggleable__label-arrow\">Pipeline</label><div class=\"sk-toggleable__content\"><pre>Pipeline(steps=[(&#x27;columntransformer&#x27;,\n",
       "                 ColumnTransformer(transformers=[(&#x27;standardscaler&#x27;,\n",
       "                                                  StandardScaler(),\n",
       "                                                  [&#x27;compound&#x27;, &#x27;neg&#x27;, &#x27;neu&#x27;,\n",
       "                                                   &#x27;pos&#x27;]),\n",
       "                                                 (&#x27;tfidfvectorizer&#x27;,\n",
       "                                                  TfidfVectorizer(ngram_range=(1,\n",
       "                                                                               2),\n",
       "                                                                  stop_words=&#x27;english&#x27;),\n",
       "                                                  &#x27;clean&#x27;)])),\n",
       "                (&#x27;sgdclassifier&#x27;,\n",
       "                 SGDClassifier(class_weight=&#x27;balanced&#x27;, random_state=42))])</pre></div></div></div><div class=\"sk-serial\"><div class=\"sk-item sk-dashed-wrapped\"><div class=\"sk-label-container\"><div class=\"sk-label sk-toggleable\"><input class=\"sk-toggleable__control sk-hidden--visually\" id=\"sk-estimator-id-18\" type=\"checkbox\" ><label for=\"sk-estimator-id-18\" class=\"sk-toggleable__label sk-toggleable__label-arrow\">columntransformer: ColumnTransformer</label><div class=\"sk-toggleable__content\"><pre>ColumnTransformer(transformers=[(&#x27;standardscaler&#x27;, StandardScaler(),\n",
       "                                 [&#x27;compound&#x27;, &#x27;neg&#x27;, &#x27;neu&#x27;, &#x27;pos&#x27;]),\n",
       "                                (&#x27;tfidfvectorizer&#x27;,\n",
       "                                 TfidfVectorizer(ngram_range=(1, 2),\n",
       "                                                 stop_words=&#x27;english&#x27;),\n",
       "                                 &#x27;clean&#x27;)])</pre></div></div></div><div class=\"sk-parallel\"><div class=\"sk-parallel-item\"><div class=\"sk-item\"><div class=\"sk-label-container\"><div class=\"sk-label sk-toggleable\"><input class=\"sk-toggleable__control sk-hidden--visually\" id=\"sk-estimator-id-19\" type=\"checkbox\" ><label for=\"sk-estimator-id-19\" class=\"sk-toggleable__label sk-toggleable__label-arrow\">standardscaler</label><div class=\"sk-toggleable__content\"><pre>[&#x27;compound&#x27;, &#x27;neg&#x27;, &#x27;neu&#x27;, &#x27;pos&#x27;]</pre></div></div></div><div class=\"sk-serial\"><div class=\"sk-item\"><div class=\"sk-estimator sk-toggleable\"><input class=\"sk-toggleable__control sk-hidden--visually\" id=\"sk-estimator-id-20\" type=\"checkbox\" ><label for=\"sk-estimator-id-20\" class=\"sk-toggleable__label sk-toggleable__label-arrow\">StandardScaler</label><div class=\"sk-toggleable__content\"><pre>StandardScaler()</pre></div></div></div></div></div></div><div class=\"sk-parallel-item\"><div class=\"sk-item\"><div class=\"sk-label-container\"><div class=\"sk-label sk-toggleable\"><input class=\"sk-toggleable__control sk-hidden--visually\" id=\"sk-estimator-id-21\" type=\"checkbox\" ><label for=\"sk-estimator-id-21\" class=\"sk-toggleable__label sk-toggleable__label-arrow\">tfidfvectorizer</label><div class=\"sk-toggleable__content\"><pre>clean</pre></div></div></div><div class=\"sk-serial\"><div class=\"sk-item\"><div class=\"sk-estimator sk-toggleable\"><input class=\"sk-toggleable__control sk-hidden--visually\" id=\"sk-estimator-id-22\" type=\"checkbox\" ><label for=\"sk-estimator-id-22\" class=\"sk-toggleable__label sk-toggleable__label-arrow\">TfidfVectorizer</label><div class=\"sk-toggleable__content\"><pre>TfidfVectorizer(ngram_range=(1, 2), stop_words=&#x27;english&#x27;)</pre></div></div></div></div></div></div></div></div><div class=\"sk-item\"><div class=\"sk-estimator sk-toggleable\"><input class=\"sk-toggleable__control sk-hidden--visually\" id=\"sk-estimator-id-23\" type=\"checkbox\" ><label for=\"sk-estimator-id-23\" class=\"sk-toggleable__label sk-toggleable__label-arrow\">SGDClassifier</label><div class=\"sk-toggleable__content\"><pre>SGDClassifier(class_weight=&#x27;balanced&#x27;, random_state=42)</pre></div></div></div></div></div></div></div>"
      ],
      "text/plain": [
       "Pipeline(steps=[('columntransformer',\n",
       "                 ColumnTransformer(transformers=[('standardscaler',\n",
       "                                                  StandardScaler(),\n",
       "                                                  ['compound', 'neg', 'neu',\n",
       "                                                   'pos']),\n",
       "                                                 ('tfidfvectorizer',\n",
       "                                                  TfidfVectorizer(ngram_range=(1,\n",
       "                                                                               2),\n",
       "                                                                  stop_words='english'),\n",
       "                                                  'clean')])),\n",
       "                ('sgdclassifier',\n",
       "                 SGDClassifier(class_weight='balanced', random_state=42))])"
      ]
     },
     "execution_count": 31,
     "metadata": {},
     "output_type": "execute_result"
    }
   ],
   "source": [
    "# Output the parameters of the best estimator after grid search fine tune\n",
    "best_estimator = gs.best_estimator_\n",
    "best_estimator\n",
    "\n",
    "# loss =’hinge’ is by default. Thus, it's not shown."
   ]
  },
  {
   "cell_type": "markdown",
   "id": "5d659ce1",
   "metadata": {},
   "source": [
    "### 8. Test the model's generalization"
   ]
  },
  {
   "cell_type": "code",
   "execution_count": 43,
   "id": "ccb03cb4",
   "metadata": {},
   "outputs": [
    {
     "data": {
      "text/html": [
       "<div>\n",
       "<style scoped>\n",
       "    .dataframe tbody tr th:only-of-type {\n",
       "        vertical-align: middle;\n",
       "    }\n",
       "\n",
       "    .dataframe tbody tr th {\n",
       "        vertical-align: top;\n",
       "    }\n",
       "\n",
       "    .dataframe thead th {\n",
       "        text-align: right;\n",
       "    }\n",
       "</style>\n",
       "<table border=\"1\" class=\"dataframe\">\n",
       "  <thead>\n",
       "    <tr style=\"text-align: right;\">\n",
       "      <th></th>\n",
       "      <th>id</th>\n",
       "      <th>tweet</th>\n",
       "    </tr>\n",
       "  </thead>\n",
       "  <tbody>\n",
       "    <tr>\n",
       "      <th>0</th>\n",
       "      <td>15923</td>\n",
       "      <td>#WhoIsQ #WheresTheServer #DumpNike #DECLASFISA...</td>\n",
       "    </tr>\n",
       "    <tr>\n",
       "      <th>1</th>\n",
       "      <td>27014</td>\n",
       "      <td>#ConstitutionDay is revered by Conservatives, ...</td>\n",
       "    </tr>\n",
       "    <tr>\n",
       "      <th>2</th>\n",
       "      <td>30530</td>\n",
       "      <td>#FOXNews #NRA #MAGA #POTUS #TRUMP #2ndAmendmen...</td>\n",
       "    </tr>\n",
       "    <tr>\n",
       "      <th>3</th>\n",
       "      <td>13876</td>\n",
       "      <td>#Watching #Boomer getting the news that she is...</td>\n",
       "    </tr>\n",
       "    <tr>\n",
       "      <th>4</th>\n",
       "      <td>60133</td>\n",
       "      <td>#NoPasaran: Unity demo to oppose the far-right...</td>\n",
       "    </tr>\n",
       "  </tbody>\n",
       "</table>\n",
       "</div>"
      ],
      "text/plain": [
       "      id                                              tweet\n",
       "0  15923  #WhoIsQ #WheresTheServer #DumpNike #DECLASFISA...\n",
       "1  27014  #ConstitutionDay is revered by Conservatives, ...\n",
       "2  30530  #FOXNews #NRA #MAGA #POTUS #TRUMP #2ndAmendmen...\n",
       "3  13876  #Watching #Boomer getting the news that she is...\n",
       "4  60133  #NoPasaran: Unity demo to oppose the far-right..."
      ]
     },
     "execution_count": 43,
     "metadata": {},
     "output_type": "execute_result"
    }
   ],
   "source": [
    "test_IN = pd.read_csv('test_IN.csv', delimiter=',', encoding='utf-8')\n",
    "test_IN.head()"
   ]
  },
  {
   "cell_type": "code",
   "execution_count": 44,
   "id": "e7cfa39b",
   "metadata": {},
   "outputs": [
    {
     "name": "stdout",
     "output_type": "stream",
     "text": [
      "<class 'pandas.core.frame.DataFrame'>\n",
      "RangeIndex: 860 entries, 0 to 859\n",
      "Data columns (total 2 columns):\n",
      " #   Column  Non-Null Count  Dtype \n",
      "---  ------  --------------  ----- \n",
      " 0   id      860 non-null    int64 \n",
      " 1   tweet   860 non-null    object\n",
      "dtypes: int64(1), object(1)\n",
      "memory usage: 13.6+ KB\n"
     ]
    }
   ],
   "source": [
    "test_IN.info()"
   ]
  },
  {
   "cell_type": "code",
   "execution_count": 25,
   "id": "f7a68b93",
   "metadata": {},
   "outputs": [
    {
     "data": {
      "text/plain": [
       "id       0\n",
       "tweet    0\n",
       "dtype: int64"
      ]
     },
     "execution_count": 25,
     "metadata": {},
     "output_type": "execute_result"
    }
   ],
   "source": [
    "# Check for missing values\n",
    "test_IN.isnull().sum()"
   ]
  },
  {
   "cell_type": "code",
   "execution_count": 26,
   "id": "bf4b9ad7",
   "metadata": {},
   "outputs": [
    {
     "data": {
      "text/plain": [
       "0"
      ]
     },
     "execution_count": 26,
     "metadata": {},
     "output_type": "execute_result"
    }
   ],
   "source": [
    "# Check for duplicates\n",
    "test_IN.duplicated().sum()"
   ]
  },
  {
   "cell_type": "code",
   "execution_count": 45,
   "id": "35703094",
   "metadata": {},
   "outputs": [
    {
     "data": {
      "text/html": [
       "<div>\n",
       "<style scoped>\n",
       "    .dataframe tbody tr th:only-of-type {\n",
       "        vertical-align: middle;\n",
       "    }\n",
       "\n",
       "    .dataframe tbody tr th {\n",
       "        vertical-align: top;\n",
       "    }\n",
       "\n",
       "    .dataframe thead th {\n",
       "        text-align: right;\n",
       "    }\n",
       "</style>\n",
       "<table border=\"1\" class=\"dataframe\">\n",
       "  <thead>\n",
       "    <tr style=\"text-align: right;\">\n",
       "      <th></th>\n",
       "      <th>id</th>\n",
       "      <th>tweet</th>\n",
       "      <th>clean</th>\n",
       "      <th>compound</th>\n",
       "      <th>neg</th>\n",
       "      <th>neu</th>\n",
       "      <th>pos</th>\n",
       "    </tr>\n",
       "  </thead>\n",
       "  <tbody>\n",
       "    <tr>\n",
       "      <th>0</th>\n",
       "      <td>15923</td>\n",
       "      <td>#WhoIsQ #WheresTheServer #DumpNike #DECLASFISA...</td>\n",
       "      <td>whoisq wherestheserver dumpnike declasfisa dem...</td>\n",
       "      <td>-0.8260</td>\n",
       "      <td>0.288</td>\n",
       "      <td>0.638</td>\n",
       "      <td>0.075</td>\n",
       "    </tr>\n",
       "    <tr>\n",
       "      <th>1</th>\n",
       "      <td>27014</td>\n",
       "      <td>#ConstitutionDay is revered by Conservatives, ...</td>\n",
       "      <td>constitutionday revered conservative hated pro...</td>\n",
       "      <td>-0.1531</td>\n",
       "      <td>0.223</td>\n",
       "      <td>0.532</td>\n",
       "      <td>0.245</td>\n",
       "    </tr>\n",
       "    <tr>\n",
       "      <th>2</th>\n",
       "      <td>30530</td>\n",
       "      <td>#FOXNews #NRA #MAGA #POTUS #TRUMP #2ndAmendmen...</td>\n",
       "      <td>foxnews nra maga potus trump ndamendment rnc u...</td>\n",
       "      <td>0.0000</td>\n",
       "      <td>0.000</td>\n",
       "      <td>1.000</td>\n",
       "      <td>0.000</td>\n",
       "    </tr>\n",
       "    <tr>\n",
       "      <th>3</th>\n",
       "      <td>13876</td>\n",
       "      <td>#Watching #Boomer getting the news that she is...</td>\n",
       "      <td>watching boomer getting news still parole alwa...</td>\n",
       "      <td>0.5719</td>\n",
       "      <td>0.000</td>\n",
       "      <td>0.810</td>\n",
       "      <td>0.190</td>\n",
       "    </tr>\n",
       "    <tr>\n",
       "      <th>4</th>\n",
       "      <td>60133</td>\n",
       "      <td>#NoPasaran: Unity demo to oppose the far-right...</td>\n",
       "      <td>nopasaran unity demo oppose far right london a...</td>\n",
       "      <td>0.0000</td>\n",
       "      <td>0.000</td>\n",
       "      <td>1.000</td>\n",
       "      <td>0.000</td>\n",
       "    </tr>\n",
       "  </tbody>\n",
       "</table>\n",
       "</div>"
      ],
      "text/plain": [
       "      id                                              tweet  \\\n",
       "0  15923  #WhoIsQ #WheresTheServer #DumpNike #DECLASFISA...   \n",
       "1  27014  #ConstitutionDay is revered by Conservatives, ...   \n",
       "2  30530  #FOXNews #NRA #MAGA #POTUS #TRUMP #2ndAmendmen...   \n",
       "3  13876  #Watching #Boomer getting the news that she is...   \n",
       "4  60133  #NoPasaran: Unity demo to oppose the far-right...   \n",
       "\n",
       "                                               clean  compound    neg    neu  \\\n",
       "0  whoisq wherestheserver dumpnike declasfisa dem...   -0.8260  0.288  0.638   \n",
       "1  constitutionday revered conservative hated pro...   -0.1531  0.223  0.532   \n",
       "2  foxnews nra maga potus trump ndamendment rnc u...    0.0000  0.000  1.000   \n",
       "3  watching boomer getting news still parole alwa...    0.5719  0.000  0.810   \n",
       "4  nopasaran unity demo oppose far right london a...    0.0000  0.000  1.000   \n",
       "\n",
       "     pos  \n",
       "0  0.075  \n",
       "1  0.245  \n",
       "2  0.000  \n",
       "3  0.190  \n",
       "4  0.000  "
      ]
     },
     "execution_count": 45,
     "metadata": {},
     "output_type": "execute_result"
    }
   ],
   "source": [
    "# Clean the text\n",
    "test_IN['clean'] = test_IN['tweet'].apply(lambda x: clean(x))\n",
    "\n",
    "# Feature extraction > Preprocessing\n",
    "test_IN['compound'] = [analyzer.polarity_scores(x)['compound'] for x in test_IN['tweet']]\n",
    "test_IN['neg'] = [analyzer.polarity_scores(x)['neg'] for x in test_IN['tweet']]\n",
    "test_IN['neu'] = [analyzer.polarity_scores(x)['neu'] for x in test_IN['tweet']]\n",
    "test_IN['pos'] = [analyzer.polarity_scores(x)['pos'] for x in test_IN['tweet']]\n",
    "test_IN.head()"
   ]
  },
  {
   "cell_type": "code",
   "execution_count": 46,
   "id": "9bac596e",
   "metadata": {},
   "outputs": [
    {
     "data": {
      "text/plain": [
       "{'columntransformer': ColumnTransformer(transformers=[('standardscaler', StandardScaler(),\n",
       "                                  ['compound', 'neg', 'neu', 'pos']),\n",
       "                                 ('tfidfvectorizer',\n",
       "                                  TfidfVectorizer(ngram_range=(1, 2),\n",
       "                                                  stop_words='english'),\n",
       "                                  'clean')]),\n",
       " 'sgdclassifier': SGDClassifier(class_weight='balanced', random_state=42)}"
      ]
     },
     "execution_count": 46,
     "metadata": {},
     "output_type": "execute_result"
    }
   ],
   "source": [
    "best_estimator.named_steps"
   ]
  },
  {
   "cell_type": "code",
   "execution_count": 47,
   "id": "877c9a90",
   "metadata": {},
   "outputs": [
    {
     "data": {
      "text/html": [
       "<div>\n",
       "<style scoped>\n",
       "    .dataframe tbody tr th:only-of-type {\n",
       "        vertical-align: middle;\n",
       "    }\n",
       "\n",
       "    .dataframe tbody tr th {\n",
       "        vertical-align: top;\n",
       "    }\n",
       "\n",
       "    .dataframe thead th {\n",
       "        text-align: right;\n",
       "    }\n",
       "</style>\n",
       "<table border=\"1\" class=\"dataframe\">\n",
       "  <thead>\n",
       "    <tr style=\"text-align: right;\">\n",
       "      <th></th>\n",
       "      <th>id</th>\n",
       "      <th>tweet</th>\n",
       "      <th>clean</th>\n",
       "      <th>compound</th>\n",
       "      <th>neg</th>\n",
       "      <th>neu</th>\n",
       "      <th>pos</th>\n",
       "      <th>target</th>\n",
       "    </tr>\n",
       "  </thead>\n",
       "  <tbody>\n",
       "    <tr>\n",
       "      <th>0</th>\n",
       "      <td>15923</td>\n",
       "      <td>#WhoIsQ #WheresTheServer #DumpNike #DECLASFISA...</td>\n",
       "      <td>whoisq wherestheserver dumpnike declasfisa dem...</td>\n",
       "      <td>-0.8260</td>\n",
       "      <td>0.288</td>\n",
       "      <td>0.638</td>\n",
       "      <td>0.075</td>\n",
       "      <td>1</td>\n",
       "    </tr>\n",
       "    <tr>\n",
       "      <th>1</th>\n",
       "      <td>27014</td>\n",
       "      <td>#ConstitutionDay is revered by Conservatives, ...</td>\n",
       "      <td>constitutionday revered conservative hated pro...</td>\n",
       "      <td>-0.1531</td>\n",
       "      <td>0.223</td>\n",
       "      <td>0.532</td>\n",
       "      <td>0.245</td>\n",
       "      <td>0</td>\n",
       "    </tr>\n",
       "    <tr>\n",
       "      <th>2</th>\n",
       "      <td>30530</td>\n",
       "      <td>#FOXNews #NRA #MAGA #POTUS #TRUMP #2ndAmendmen...</td>\n",
       "      <td>foxnews nra maga potus trump ndamendment rnc u...</td>\n",
       "      <td>0.0000</td>\n",
       "      <td>0.000</td>\n",
       "      <td>1.000</td>\n",
       "      <td>0.000</td>\n",
       "      <td>0</td>\n",
       "    </tr>\n",
       "    <tr>\n",
       "      <th>3</th>\n",
       "      <td>13876</td>\n",
       "      <td>#Watching #Boomer getting the news that she is...</td>\n",
       "      <td>watching boomer getting news still parole alwa...</td>\n",
       "      <td>0.5719</td>\n",
       "      <td>0.000</td>\n",
       "      <td>0.810</td>\n",
       "      <td>0.190</td>\n",
       "      <td>0</td>\n",
       "    </tr>\n",
       "    <tr>\n",
       "      <th>4</th>\n",
       "      <td>60133</td>\n",
       "      <td>#NoPasaran: Unity demo to oppose the far-right...</td>\n",
       "      <td>nopasaran unity demo oppose far right london a...</td>\n",
       "      <td>0.0000</td>\n",
       "      <td>0.000</td>\n",
       "      <td>1.000</td>\n",
       "      <td>0.000</td>\n",
       "      <td>0</td>\n",
       "    </tr>\n",
       "  </tbody>\n",
       "</table>\n",
       "</div>"
      ],
      "text/plain": [
       "      id                                              tweet  \\\n",
       "0  15923  #WhoIsQ #WheresTheServer #DumpNike #DECLASFISA...   \n",
       "1  27014  #ConstitutionDay is revered by Conservatives, ...   \n",
       "2  30530  #FOXNews #NRA #MAGA #POTUS #TRUMP #2ndAmendmen...   \n",
       "3  13876  #Watching #Boomer getting the news that she is...   \n",
       "4  60133  #NoPasaran: Unity demo to oppose the far-right...   \n",
       "\n",
       "                                               clean  compound    neg    neu  \\\n",
       "0  whoisq wherestheserver dumpnike declasfisa dem...   -0.8260  0.288  0.638   \n",
       "1  constitutionday revered conservative hated pro...   -0.1531  0.223  0.532   \n",
       "2  foxnews nra maga potus trump ndamendment rnc u...    0.0000  0.000  1.000   \n",
       "3  watching boomer getting news still parole alwa...    0.5719  0.000  0.810   \n",
       "4  nopasaran unity demo oppose far right london a...    0.0000  0.000  1.000   \n",
       "\n",
       "     pos  target  \n",
       "0  0.075       1  \n",
       "1  0.245       0  \n",
       "2  0.000       0  \n",
       "3  0.190       0  \n",
       "4  0.000       0  "
      ]
     },
     "execution_count": 47,
     "metadata": {},
     "output_type": "execute_result"
    }
   ],
   "source": [
    "# Have the sdg_pipeline to make prediction on the test set and save it as a new column in the test set\n",
    "test_IN['target'] = best_estimator.predict(test_IN)\n",
    "test_IN.head()"
   ]
  },
  {
   "cell_type": "code",
   "execution_count": 49,
   "id": "d52bbf13",
   "metadata": {},
   "outputs": [
    {
     "data": {
      "text/html": [
       "<div>\n",
       "<style scoped>\n",
       "    .dataframe tbody tr th:only-of-type {\n",
       "        vertical-align: middle;\n",
       "    }\n",
       "\n",
       "    .dataframe tbody tr th {\n",
       "        vertical-align: top;\n",
       "    }\n",
       "\n",
       "    .dataframe thead th {\n",
       "        text-align: right;\n",
       "    }\n",
       "</style>\n",
       "<table border=\"1\" class=\"dataframe\">\n",
       "  <thead>\n",
       "    <tr style=\"text-align: right;\">\n",
       "      <th></th>\n",
       "      <th>id</th>\n",
       "      <th>tweet</th>\n",
       "      <th>clean</th>\n",
       "      <th>compound</th>\n",
       "      <th>neg</th>\n",
       "      <th>neu</th>\n",
       "      <th>pos</th>\n",
       "      <th>target</th>\n",
       "      <th>label</th>\n",
       "    </tr>\n",
       "  </thead>\n",
       "  <tbody>\n",
       "    <tr>\n",
       "      <th>0</th>\n",
       "      <td>15923</td>\n",
       "      <td>#WhoIsQ #WheresTheServer #DumpNike #DECLASFISA...</td>\n",
       "      <td>whoisq wherestheserver dumpnike declasfisa dem...</td>\n",
       "      <td>-0.8260</td>\n",
       "      <td>0.288</td>\n",
       "      <td>0.638</td>\n",
       "      <td>0.075</td>\n",
       "      <td>1</td>\n",
       "      <td>OFF</td>\n",
       "    </tr>\n",
       "    <tr>\n",
       "      <th>1</th>\n",
       "      <td>27014</td>\n",
       "      <td>#ConstitutionDay is revered by Conservatives, ...</td>\n",
       "      <td>constitutionday revered conservative hated pro...</td>\n",
       "      <td>-0.1531</td>\n",
       "      <td>0.223</td>\n",
       "      <td>0.532</td>\n",
       "      <td>0.245</td>\n",
       "      <td>0</td>\n",
       "      <td>NOT</td>\n",
       "    </tr>\n",
       "    <tr>\n",
       "      <th>2</th>\n",
       "      <td>30530</td>\n",
       "      <td>#FOXNews #NRA #MAGA #POTUS #TRUMP #2ndAmendmen...</td>\n",
       "      <td>foxnews nra maga potus trump ndamendment rnc u...</td>\n",
       "      <td>0.0000</td>\n",
       "      <td>0.000</td>\n",
       "      <td>1.000</td>\n",
       "      <td>0.000</td>\n",
       "      <td>0</td>\n",
       "      <td>NOT</td>\n",
       "    </tr>\n",
       "    <tr>\n",
       "      <th>3</th>\n",
       "      <td>13876</td>\n",
       "      <td>#Watching #Boomer getting the news that she is...</td>\n",
       "      <td>watching boomer getting news still parole alwa...</td>\n",
       "      <td>0.5719</td>\n",
       "      <td>0.000</td>\n",
       "      <td>0.810</td>\n",
       "      <td>0.190</td>\n",
       "      <td>0</td>\n",
       "      <td>NOT</td>\n",
       "    </tr>\n",
       "    <tr>\n",
       "      <th>4</th>\n",
       "      <td>60133</td>\n",
       "      <td>#NoPasaran: Unity demo to oppose the far-right...</td>\n",
       "      <td>nopasaran unity demo oppose far right london a...</td>\n",
       "      <td>0.0000</td>\n",
       "      <td>0.000</td>\n",
       "      <td>1.000</td>\n",
       "      <td>0.000</td>\n",
       "      <td>0</td>\n",
       "      <td>NOT</td>\n",
       "    </tr>\n",
       "  </tbody>\n",
       "</table>\n",
       "</div>"
      ],
      "text/plain": [
       "      id                                              tweet  \\\n",
       "0  15923  #WhoIsQ #WheresTheServer #DumpNike #DECLASFISA...   \n",
       "1  27014  #ConstitutionDay is revered by Conservatives, ...   \n",
       "2  30530  #FOXNews #NRA #MAGA #POTUS #TRUMP #2ndAmendmen...   \n",
       "3  13876  #Watching #Boomer getting the news that she is...   \n",
       "4  60133  #NoPasaran: Unity demo to oppose the far-right...   \n",
       "\n",
       "                                               clean  compound    neg    neu  \\\n",
       "0  whoisq wherestheserver dumpnike declasfisa dem...   -0.8260  0.288  0.638   \n",
       "1  constitutionday revered conservative hated pro...   -0.1531  0.223  0.532   \n",
       "2  foxnews nra maga potus trump ndamendment rnc u...    0.0000  0.000  1.000   \n",
       "3  watching boomer getting news still parole alwa...    0.5719  0.000  0.810   \n",
       "4  nopasaran unity demo oppose far right london a...    0.0000  0.000  1.000   \n",
       "\n",
       "     pos  target label  \n",
       "0  0.075       1   OFF  \n",
       "1  0.245       0   NOT  \n",
       "2  0.000       0   NOT  \n",
       "3  0.190       0   NOT  \n",
       "4  0.000       0   NOT  "
      ]
     },
     "execution_count": 49,
     "metadata": {},
     "output_type": "execute_result"
    }
   ],
   "source": [
    "# Map the label with the target\n",
    "test_IN['label'] = test_IN.target.map({0 : 'NOT', 1: 'OFF'}) \n",
    "test_IN.head()"
   ]
  },
  {
   "cell_type": "code",
   "execution_count": 50,
   "id": "9fcd089c",
   "metadata": {},
   "outputs": [],
   "source": [
    "# test_IN.to_csv('test_IN_with_prediction.csv', index=False)"
   ]
  },
  {
   "cell_type": "markdown",
   "id": "190b3f75",
   "metadata": {},
   "source": [
    "#### Additional part of the Task A: Compare the prediction with the gold labels"
   ]
  },
  {
   "cell_type": "code",
   "execution_count": 60,
   "id": "f70f92b7",
   "metadata": {},
   "outputs": [
    {
     "data": {
      "text/plain": [
       "array([0, 1], dtype=int64)"
      ]
     },
     "execution_count": 60,
     "metadata": {},
     "output_type": "execute_result"
    }
   ],
   "source": [
    "best_estimator.classes_"
   ]
  },
  {
   "cell_type": "code",
   "execution_count": 64,
   "id": "efca2af7",
   "metadata": {},
   "outputs": [
    {
     "name": "stdout",
     "output_type": "stream",
     "text": [
      "              precision    recall  f1-score   support\n",
      "\n",
      "         NOT       0.86      0.89      0.87       620\n",
      "         OFF       0.68      0.63      0.66       240\n",
      "\n",
      "    accuracy                           0.82       860\n",
      "   macro avg       0.77      0.76      0.76       860\n",
      "weighted avg       0.81      0.82      0.81       860\n",
      "\n"
     ]
    },
    {
     "data": {
      "image/png": "[encoded data removed]",
      "text/plain": [
       "<Figure size 500x500 with 2 Axes>"
      ]
     },
     "metadata": {},
     "output_type": "display_data"
    }
   ],
   "source": [
    "test_SET_gold = pd.read_csv('test_IN_gold.csv', delimiter=',', encoding='utf-8')\n",
    "test_IN = pd.read_csv('test_IN_with_prediction.csv', delimiter=',', encoding='utf-8')\n",
    "\n",
    "y_val1 = list(test_SET_gold.label)\n",
    "y_val_pred1 = list(test_IN.label)\n",
    "\n",
    "print(classification_report(y_val1, y_val_pred1))\n",
    "\n",
    "cm = confusion_matrix(y_val1, y_val_pred1)\n",
    "\n",
    "labels = [\"NOT\", \"OFF\"]\n",
    "disp = ConfusionMatrixDisplay(confusion_matrix=cm, display_labels=labels)\n",
    "fig, ax = plt.subplots(figsize=(5,5))\n",
    "\n",
    "disp.plot(ax=ax);"
   ]
  },
  {
   "cell_type": "code",
   "execution_count": null,
   "id": "a409b7b5",
   "metadata": {},
   "outputs": [],
   "source": []
  }
 ],
 "metadata": {
  "kernelspec": {
   "display_name": "Python 3 (ipykernel)",
   "language": "python",
   "name": "python3"
  },
  "language_info": {
   "codemirror_mode": {
    "name": "ipython",
    "version": 3
   },
   "file_extension": ".py",
   "mimetype": "text/x-python",
   "name": "python",
   "nbconvert_exporter": "python",
   "pygments_lexer": "ipython3",
   "version": "3.10.9"
  }
 },
 "nbformat": 4,
 "nbformat_minor": 5
}
